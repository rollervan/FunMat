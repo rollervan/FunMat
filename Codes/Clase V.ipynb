{
 "cells": [
  {
   "cell_type": "markdown",
   "id": "6d219fc7-bd94-41cc-83ce-e95f9763297f",
   "metadata": {},
   "source": [
    "# Clase V. curso 2020-2021. Emanuele Schiavi\n",
    "recordamos un metodo directo 4.2.3 regresion lineal ej quarteroni"
   ]
  },
  {
   "cell_type": "code",
   "execution_count": 1,
   "id": "357def40-18c4-494f-80af-e2f6e5436c51",
   "metadata": {},
   "outputs": [],
   "source": [
    "%matplotlib inline\n",
    "\n",
    "import numpy as np\n",
    "import matplotlib.pyplot as plt\n",
    "from matplotlib import cm\n",
    "from mpl_toolkits import mplot3d\n",
    "\n",
    "from sympy import *"
   ]
  },
  {
   "cell_type": "code",
   "execution_count": 2,
   "id": "4d0df5e7-95a5-4427-b52c-c41a1398bf53",
   "metadata": {},
   "outputs": [
    {
     "name": "stdout",
     "output_type": "stream",
     "text": [
      "Rango A\n"
     ]
    },
    {
     "data": {
      "text/plain": [
       "2"
      ]
     },
     "metadata": {},
     "output_type": "display_data"
    },
    {
     "name": "stdout",
     "output_type": "stream",
     "text": [
      "Rango A ampliada\n"
     ]
    },
    {
     "data": {
      "text/plain": [
       "3"
      ]
     },
     "metadata": {},
     "output_type": "display_data"
    }
   ],
   "source": [
    "A = np.array([[ 0,      1],\n",
    "              [0.06,   1],\n",
    "              [0.14,   1],\n",
    "              [0.25,   1],\n",
    "              [0.31,   1],\n",
    "              [0.47,   1],\n",
    "              [0.60,   1],\n",
    "              [0.70,   1]])\n",
    "m, n = A.shape\n",
    "b = np.array([[0], [0.08], [0.14], [0.20], [0.23], [0.25], [0.28], [0.29]])\n",
    "\n",
    "# no existencia\n",
    "rango = np.linalg.matrix_rank(A)\n",
    "rango_amp = np.linalg.matrix_rank(np.concatenate([A, b],-1))\n",
    "print('Rango A')\n",
    "display(rango)\n",
    "print('Rango A ampliada')\n",
    "display(rango_amp)"
   ]
  },
  {
   "cell_type": "code",
   "execution_count": 3,
   "id": "d39d7ab6-1359-4c54-91b3-f4176ccd1874",
   "metadata": {},
   "outputs": [
    {
     "name": "stdout",
     "output_type": "stream",
     "text": [
      "Q\n"
     ]
    },
    {
     "data": {
      "text/plain": [
       "array([[ 0.        , -0.58820304],\n",
       "       [-0.05360777, -0.51692563],\n",
       "       [-0.12508479, -0.42188907],\n",
       "       [-0.22336569, -0.2912138 ],\n",
       "       [-0.27697346, -0.21993638],\n",
       "       [-0.4199275 , -0.02986327],\n",
       "       [-0.53607766,  0.12457114],\n",
       "       [-0.62542394,  0.24336684]])"
      ]
     },
     "metadata": {},
     "output_type": "display_data"
    },
    {
     "name": "stdout",
     "output_type": "stream",
     "text": [
      "R\n"
     ]
    },
    {
     "data": {
      "text/plain": [
       "array([[-1.11924081, -2.26046081],\n",
       "       [ 0.        , -1.70009321]])"
      ]
     },
     "metadata": {},
     "output_type": "display_data"
    },
    {
     "name": "stdout",
     "output_type": "stream",
     "text": [
      "xstar\n"
     ]
    },
    {
     "data": {
      "text/plain": [
       "array([[0.37409893],\n",
       "       [0.06544121]])"
      ]
     },
     "metadata": {},
     "output_type": "display_data"
    },
    {
     "name": "stdout",
     "output_type": "stream",
     "text": [
      "xp\n"
     ]
    },
    {
     "data": {
      "text/plain": [
       "array([[0.37409893],\n",
       "       [0.06544121]])"
      ]
     },
     "metadata": {},
     "output_type": "display_data"
    }
   ],
   "source": [
    "# Calculo solucion de minimos cuadrados\n",
    "Q, R = np.linalg.qr(A, mode='reduced')\n",
    "print('Q')\n",
    "display(Q)\n",
    "print('R')\n",
    "display(R)\n",
    "xstar = np.linalg.pinv(R) @ (Q.transpose()@b)\n",
    "xp = np.linalg.pinv(A)@b\n",
    "print('xstar')\n",
    "display(xstar)\n",
    "print('xp')\n",
    "display(xp)"
   ]
  },
  {
   "cell_type": "code",
   "execution_count": 4,
   "id": "41128388-8a0a-460e-882c-86b170bb8823",
   "metadata": {},
   "outputs": [
    {
     "name": "stdout",
     "output_type": "stream",
     "text": [
      "x_QR\n"
     ]
    },
    {
     "data": {
      "text/plain": [
       "array([[0.37409893],\n",
       "       [0.06544121]])"
      ]
     },
     "metadata": {},
     "output_type": "display_data"
    },
    {
     "name": "stdout",
     "output_type": "stream",
     "text": [
      "tiempo_QR\n"
     ]
    },
    {
     "data": {
      "text/plain": [
       "0.00019121170043945312"
      ]
     },
     "metadata": {},
     "output_type": "display_data"
    },
    {
     "name": "stdout",
     "output_type": "stream",
     "text": [
      "x_directo\n"
     ]
    },
    {
     "name": "stderr",
     "output_type": "stream",
     "text": [
      "/tmp/ipykernel_16305/2288081558.py:13: FutureWarning: `rcond` parameter will change to the default of machine precision times ``max(M, N)`` where M and N are the input matrix dimensions.\n",
      "To use the future default and silence this warning we advise to pass `rcond=None`, to keep using the old, explicitly pass `rcond=-1`.\n",
      "  x_directo = np.linalg.lstsq(A, b)[0]\n"
     ]
    },
    {
     "data": {
      "text/plain": [
       "array([[0.37409893],\n",
       "       [0.06544121]])"
      ]
     },
     "metadata": {},
     "output_type": "display_data"
    },
    {
     "name": "stdout",
     "output_type": "stream",
     "text": [
      "tiempo_directo\n"
     ]
    },
    {
     "data": {
      "text/plain": [
       "0.0001590251922607422"
      ]
     },
     "metadata": {},
     "output_type": "display_data"
    },
    {
     "name": "stdout",
     "output_type": "stream",
     "text": [
      "xp\n"
     ]
    },
    {
     "data": {
      "text/plain": [
       "array([[0.37409893],\n",
       "       [0.06544121]])"
      ]
     },
     "metadata": {},
     "output_type": "display_data"
    },
    {
     "name": "stdout",
     "output_type": "stream",
     "text": [
      "tiempo_pinv\n"
     ]
    },
    {
     "data": {
      "text/plain": [
       "0.0001690387725830078"
      ]
     },
     "metadata": {},
     "output_type": "display_data"
    },
    {
     "data": {
      "image/png": "[encoded data removed]",
      "text/plain": [
       "<Figure size 432x288 with 1 Axes>"
      ]
     },
     "metadata": {
      "needs_background": "light"
     },
     "output_type": "display_data"
    }
   ],
   "source": [
    "import time\n",
    "# metodos y tiempos\n",
    "t = time.time()\n",
    "x_QR = np.linalg.pinv(R) @ (Q.transpose()@b)\n",
    "tiempo_QR = time.time() - t\n",
    "\n",
    "print('x_QR')\n",
    "display(x_QR)\n",
    "print('tiempo_QR')\n",
    "display(tiempo_QR)\n",
    "\n",
    "t = time.time()\n",
    "x_directo = np.linalg.lstsq(A, b)[0]\n",
    "tiempo_directo = time.time() - t\n",
    "\n",
    "print('x_directo')\n",
    "display(x_directo)\n",
    "print('tiempo_directo')\n",
    "display(tiempo_directo)\n",
    "\n",
    "t = time.time()\n",
    "xp = np.linalg.pinv(A) @ b\n",
    "tiempo_pinv = time.time() - t\n",
    "\n",
    "print('xp')\n",
    "display(xp)\n",
    "print('tiempo_pinv')\n",
    "display(tiempo_pinv)\n",
    "\n",
    "\n",
    "fig = plt.figure()\n",
    "\n",
    "plt.plot(A[:,0], b, 'r*')\n",
    "plt.plot(A[:,0], A@x_QR, 'b')\n",
    "plt.show()\n"
   ]
  },
  {
   "cell_type": "markdown",
   "id": "a5b478bd-a2fb-4c15-a57a-db4351dfb6b5",
   "metadata": {},
   "source": [
    "## Ejemplo 5.1: no hay rango maximo"
   ]
  },
  {
   "cell_type": "code",
   "execution_count": 5,
   "id": "ba8e965f-9092-4ca1-a0a7-1009f6952523",
   "metadata": {},
   "outputs": [
    {
     "name": "stdout",
     "output_type": "stream",
     "text": [
      "Rango de A\n"
     ]
    },
    {
     "data": {
      "text/plain": [
       "1"
      ]
     },
     "metadata": {},
     "output_type": "display_data"
    }
   ],
   "source": [
    "A = np.array([[1, 1], [1, 1]])\n",
    "b= np.array([[2],[0]])\n",
    "m, n = A.shape\n",
    "\n",
    "rango = np.linalg.matrix_rank(A)\n",
    "print('Rango de A')\n",
    "display(rango)\n",
    "\n"
   ]
  },
  {
   "cell_type": "code",
   "execution_count": 6,
   "id": "69731f72-6e11-4fd5-9c0c-e25f3d670103",
   "metadata": {},
   "outputs": [
    {
     "data": {
      "text/plain": [
       "array([[0.5],\n",
       "       [0.5]])"
      ]
     },
     "metadata": {},
     "output_type": "display_data"
    },
    {
     "name": "stdout",
     "output_type": "stream",
     "text": [
      "Algoritmo\n"
     ]
    },
    {
     "data": {
      "text/plain": [
       "array([[0.25, 0.25],\n",
       "       [0.25, 0.25]])"
      ]
     },
     "metadata": {},
     "output_type": "display_data"
    },
    {
     "name": "stdout",
     "output_type": "stream",
     "text": [
      "A_p\n"
     ]
    },
    {
     "data": {
      "text/plain": [
       "array([[0.25, 0.25],\n",
       "       [0.25, 0.25]])"
      ]
     },
     "metadata": {},
     "output_type": "display_data"
    },
    {
     "name": "stderr",
     "output_type": "stream",
     "text": [
      "Traceback (most recent call last):\n",
      "  File \"/tmp/ipykernel_16305/3315505688.py\", line 23, in <module>\n",
      "    f1 = np.linalg.inv(A.transpose()@A)@A.transpose() # vale para rank=n\n",
      "  File \"<__array_function__ internals>\", line 5, in inv\n",
      "  File \"/home/ivan/anaconda3/envs/fm/lib/python3.9/site-packages/numpy/linalg/linalg.py\", line 545, in inv\n",
      "    ainv = _umath_linalg.inv(a, signature=signature, extobj=extobj)\n",
      "  File \"/home/ivan/anaconda3/envs/fm/lib/python3.9/site-packages/numpy/linalg/linalg.py\", line 88, in _raise_linalgerror_singular\n",
      "    raise LinAlgError(\"Singular matrix\")\n",
      "numpy.linalg.LinAlgError: Singular matrix\n"
     ]
    },
    {
     "data": {
      "text/plain": [
       "None"
      ]
     },
     "metadata": {},
     "output_type": "display_data"
    },
    {
     "name": "stderr",
     "output_type": "stream",
     "text": [
      "Traceback (most recent call last):\n",
      "  File \"/tmp/ipykernel_16305/3315505688.py\", line 28, in <module>\n",
      "    f2 = A.transpose()@np.linalg.inv(A@A.transpose()) # vale para rank=m\n",
      "  File \"<__array_function__ internals>\", line 5, in inv\n",
      "  File \"/home/ivan/anaconda3/envs/fm/lib/python3.9/site-packages/numpy/linalg/linalg.py\", line 545, in inv\n",
      "    ainv = _umath_linalg.inv(a, signature=signature, extobj=extobj)\n",
      "  File \"/home/ivan/anaconda3/envs/fm/lib/python3.9/site-packages/numpy/linalg/linalg.py\", line 88, in _raise_linalgerror_singular\n",
      "    raise LinAlgError(\"Singular matrix\")\n",
      "numpy.linalg.LinAlgError: Singular matrix\n"
     ]
    },
    {
     "data": {
      "text/plain": [
       "None"
      ]
     },
     "metadata": {},
     "output_type": "display_data"
    }
   ],
   "source": [
    "x_pinv = np.linalg.pinv(A)@b\n",
    "display(x_pinv)\n",
    "\n",
    "# Calculo pinv via SVD\n",
    "U, S, V = np.linalg.svd(A)\n",
    "S = np.diag(S)\n",
    "S_p = np.linalg.pinv(S)\n",
    "\n",
    "algoritmo= V@S_p@U.transpose()\n",
    "print('Algoritmo')\n",
    "display(algoritmo)\n",
    "\n",
    "# calculo pseudo inversa via pinv\n",
    "A_p = np.linalg.pinv(A)\n",
    "print('A_p')\n",
    "display(A_p)\n",
    "\n",
    "B1 = A_p@A # =VV' no es la inversa izq\n",
    "B2 = A@A_p # =UU'  no es la inversa derecha\n",
    "\n",
    "import traceback\n",
    "try:\n",
    "    f1 = np.linalg.inv(A.transpose()@A)@A.transpose() # vale para rank=n\n",
    "except Exception:\n",
    "    display(traceback.print_exc())\n",
    "\n",
    "try:\n",
    "    f2 = A.transpose()@np.linalg.inv(A@A.transpose()) # vale para rank=m\n",
    "except Exception:\n",
    "    display(traceback.print_exc())"
   ]
  },
  {
   "cell_type": "code",
   "execution_count": 7,
   "id": "fd03c34d-3dfc-4ac8-8edc-70b81af5891d",
   "metadata": {},
   "outputs": [
    {
     "name": "stdout",
     "output_type": "stream",
     "text": [
      "A_r\n"
     ]
    },
    {
     "data": {
      "text/latex": [
       "$\\displaystyle \\left[\\begin{matrix}1.0 \\epsilon + 2 & 2\\\\2 & 1.0 \\epsilon + 2\\end{matrix}\\right]$"
      ],
      "text/plain": [
       "Matrix([\n",
       "[1.0*\\epsilon + 2,                2],\n",
       "[               2, 1.0*\\epsilon + 2]])"
      ]
     },
     "metadata": {},
     "output_type": "display_data"
    },
    {
     "name": "stdout",
     "output_type": "stream",
     "text": [
      "A_s\n"
     ]
    },
    {
     "data": {
      "text/latex": [
       "$\\displaystyle \\left[\\begin{matrix}1.0 \\epsilon + 2 & 2\\\\2 & 1.0 \\epsilon + 2\\end{matrix}\\right]$"
      ],
      "text/plain": [
       "Matrix([\n",
       "[1.0*\\epsilon + 2,                2],\n",
       "[               2, 1.0*\\epsilon + 2]])"
      ]
     },
     "metadata": {},
     "output_type": "display_data"
    },
    {
     "name": "stdout",
     "output_type": "stream",
     "text": [
      "Ainv_r\n"
     ]
    },
    {
     "data": {
      "text/latex": [
       "$\\displaystyle \\left[\\begin{matrix}\\frac{2.0 \\epsilon + 4.0}{2.0 \\epsilon^{2} + 8.0 \\epsilon} & \\frac{4}{- 2.0 \\epsilon^{2} - 8.0 \\epsilon}\\\\\\frac{2}{- 1.0 \\epsilon^{2} - 4.0 \\epsilon} & \\frac{1.0 \\epsilon + 2.0}{1.0 \\epsilon^{2} + 4.0 \\epsilon}\\end{matrix}\\right]$"
      ],
      "text/plain": [
       "Matrix([\n",
       "[(2.0*\\epsilon + 4.0)/(2.0*\\epsilon**2 + 8.0*\\epsilon),                   4/(-2.0*\\epsilon**2 - 8.0*\\epsilon)],\n",
       "[                  2/(-1.0*\\epsilon**2 - 4.0*\\epsilon), (1.0*\\epsilon + 2.0)/(1.0*\\epsilon**2 + 4.0*\\epsilon)]])"
      ]
     },
     "metadata": {},
     "output_type": "display_data"
    },
    {
     "name": "stdout",
     "output_type": "stream",
     "text": [
      "Ainv_s\n"
     ]
    },
    {
     "data": {
      "text/latex": [
       "$\\displaystyle \\left[\\begin{matrix}\\frac{2.0 \\epsilon + 4.0}{2.0 \\epsilon^{2} + 8.0 \\epsilon} & \\frac{4}{- 2.0 \\epsilon^{2} - 8.0 \\epsilon}\\\\\\frac{2}{- 1.0 \\epsilon^{2} - 4.0 \\epsilon} & \\frac{1.0 \\epsilon + 2.0}{1.0 \\epsilon^{2} + 4.0 \\epsilon}\\end{matrix}\\right]$"
      ],
      "text/plain": [
       "Matrix([\n",
       "[(2.0*\\epsilon + 4.0)/(2.0*\\epsilon**2 + 8.0*\\epsilon),                   4/(-2.0*\\epsilon**2 - 8.0*\\epsilon)],\n",
       "[                  2/(-1.0*\\epsilon**2 - 4.0*\\epsilon), (1.0*\\epsilon + 2.0)/(1.0*\\epsilon**2 + 4.0*\\epsilon)]])"
      ]
     },
     "metadata": {},
     "output_type": "display_data"
    },
    {
     "name": "stdout",
     "output_type": "stream",
     "text": [
      "A_inv derecha\n"
     ]
    },
    {
     "data": {
      "text/latex": [
       "$\\displaystyle \\left[\\begin{matrix}0.25 & 0.25\\\\0.25 & 0.25\\end{matrix}\\right]$"
      ],
      "text/plain": [
       "Matrix([\n",
       "[0.25, 0.25],\n",
       "[0.25, 0.25]])"
      ]
     },
     "metadata": {},
     "output_type": "display_data"
    },
    {
     "name": "stdout",
     "output_type": "stream",
     "text": [
      "A_inv izquierda\n"
     ]
    },
    {
     "data": {
      "text/latex": [
       "$\\displaystyle \\left[\\begin{matrix}0.25 & 0.25\\\\0.25 & 0.25\\end{matrix}\\right]$"
      ],
      "text/plain": [
       "Matrix([\n",
       "[0.25, 0.25],\n",
       "[0.25, 0.25]])"
      ]
     },
     "metadata": {},
     "output_type": "display_data"
    }
   ],
   "source": [
    "# regularizacion\n",
    "epsilon = symbols('\\epsilon')\n",
    "\n",
    "A_r = Matrix(A.transpose()@A + epsilon*np.eye(n))\n",
    "A_s = Matrix(A@A.transpose() + epsilon*np.eye(n))\n",
    "print('A_r')\n",
    "display(A_r)\n",
    "print('A_s')\n",
    "display(A_s)\n",
    "\n",
    "Ainv_r = A_r.inv()\n",
    "Ainv_s = A_s.inv()\n",
    "\n",
    "print('Ainv_r')\n",
    "display(Ainv_r)\n",
    "print('Ainv_s')\n",
    "display(Ainv_s)\n",
    "\n",
    "L1_00 = limit((Ainv_r*A.transpose())[0,0], epsilon, 0)\n",
    "L1_01 = limit((Ainv_r*A.transpose())[0,1], epsilon, 0)\n",
    "L1_10 = limit((Ainv_r*A.transpose())[1,0], epsilon, 0)\n",
    "L1_11 = limit((Ainv_r*A.transpose())[1,1], epsilon, 0)\n",
    "\n",
    "fila1 = Matrix([L1_00]).col_insert(1, Matrix([L1_01]))\n",
    "fila2 = Matrix([L1_10]).col_insert(1, Matrix([L1_11]))\n",
    "\n",
    "res = fila1.row_insert(1,fila2)\n",
    "print('A_inv derecha')\n",
    "display(res)\n",
    "\n",
    "L2_00 = limit((A.transpose()*Ainv_s)[0,0], epsilon, 0)\n",
    "L2_01 = limit((A.transpose()*Ainv_s)[0,1], epsilon, 0)\n",
    "L2_10 = limit((A.transpose()*Ainv_s)[1,0], epsilon, 0)\n",
    "L2_11 = limit((A.transpose()*Ainv_s)[1,1], epsilon, 0)\n",
    "\n",
    "fila1 = Matrix([L2_00]).col_insert(1, Matrix([L2_01]))\n",
    "fila2 = Matrix([L2_10]).col_insert(1, Matrix([L2_11]))\n",
    "\n",
    "res = fila1.row_insert(1,fila2)\n",
    "print('A_inv izquierda')\n",
    "\n",
    "display(res)"
   ]
  },
  {
   "cell_type": "code",
   "execution_count": 8,
   "id": "1e2f4571-b860-4baf-ad3d-aa2e774ff606",
   "metadata": {},
   "outputs": [
    {
     "name": "stdout",
     "output_type": "stream",
     "text": [
      "Evaluamos las propiedades\n"
     ]
    },
    {
     "data": {
      "text/latex": [
       "$\\displaystyle 0$"
      ],
      "text/plain": [
       "0"
      ]
     },
     "metadata": {},
     "output_type": "display_data"
    },
    {
     "data": {
      "text/latex": [
       "$\\displaystyle 0$"
      ],
      "text/plain": [
       "0"
      ]
     },
     "metadata": {},
     "output_type": "display_data"
    },
    {
     "data": {
      "text/latex": [
       "$\\displaystyle 0$"
      ],
      "text/plain": [
       "0"
      ]
     },
     "metadata": {},
     "output_type": "display_data"
    },
    {
     "data": {
      "text/latex": [
       "$\\displaystyle 0$"
      ],
      "text/plain": [
       "0"
      ]
     },
     "metadata": {},
     "output_type": "display_data"
    }
   ],
   "source": [
    "# Diferencias\n",
    "\n",
    "print('Evaluamos las propiedades')\n",
    "A = Matrix(A)\n",
    "\n",
    "display((A-A*A.pinv()*A.transpose()).norm(ord='fro'))\n",
    "display((A.pinv()-A.pinv()*A*A.pinv()).norm(ord='fro'))\n",
    "display(((A*A.pinv()).transpose()-A*A.pinv()).norm(ord='fro'))\n",
    "display(((A.pinv()*A).transpose()-A.pinv()*A).norm(ord='fro'))\n",
    "\n"
   ]
  },
  {
   "cell_type": "markdown",
   "id": "e9618b73-90ac-4d19-b314-1935f0c20d1e",
   "metadata": {},
   "source": [
    "# Master Regresión"
   ]
  },
  {
   "cell_type": "markdown",
   "id": "1baf753a-0550-4cea-98f7-a78b47fe9b1b",
   "metadata": {},
   "source": [
    "Sistema Sobredeterminado n features\n"
   ]
  },
  {
   "cell_type": "code",
   "execution_count": 9,
   "id": "f4e25946-b6a8-4f12-a66d-fca6e4ee4076",
   "metadata": {},
   "outputs": [
    {
     "name": "stdout",
     "output_type": "stream",
     "text": [
      "w0\n"
     ]
    },
    {
     "name": "stderr",
     "output_type": "stream",
     "text": [
      "/tmp/ipykernel_16305/3499141374.py:12: FutureWarning: `rcond` parameter will change to the default of machine precision times ``max(M, N)`` where M and N are the input matrix dimensions.\n",
      "To use the future default and silence this warning we advise to pass `rcond=None`, to keep using the old, explicitly pass `rcond=-1`.\n",
      "  w0 = np.linalg.lstsq(X,y_train)[0]\n"
     ]
    },
    {
     "data": {
      "text/plain": [
       "array([[0.23747288],\n",
       "       [0.22562411],\n",
       "       [0.22781886],\n",
       "       [0.22898756]])"
      ]
     },
     "metadata": {},
     "output_type": "display_data"
    },
    {
     "name": "stdout",
     "output_type": "stream",
     "text": [
      "tiempo_lstsq\n"
     ]
    },
    {
     "data": {
      "text/plain": [
       "0.0005815029144287109"
      ]
     },
     "metadata": {},
     "output_type": "display_data"
    },
    {
     "name": "stdout",
     "output_type": "stream",
     "text": [
      "w1\n"
     ]
    },
    {
     "data": {
      "text/plain": [
       "array([[0.23747288],\n",
       "       [0.22562411],\n",
       "       [0.22781886],\n",
       "       [0.22898756]])"
      ]
     },
     "metadata": {},
     "output_type": "display_data"
    },
    {
     "name": "stdout",
     "output_type": "stream",
     "text": [
      "tiempo_qr\n"
     ]
    },
    {
     "data": {
      "text/plain": [
       "0.003812074661254883"
      ]
     },
     "metadata": {},
     "output_type": "display_data"
    },
    {
     "name": "stdout",
     "output_type": "stream",
     "text": [
      "w2\n"
     ]
    },
    {
     "data": {
      "text/plain": [
       "array([[0.23747288],\n",
       "       [0.22562411],\n",
       "       [0.22781886],\n",
       "       [0.22898756]])"
      ]
     },
     "metadata": {},
     "output_type": "display_data"
    },
    {
     "name": "stdout",
     "output_type": "stream",
     "text": [
      "tiempo_pinv_formula\n"
     ]
    },
    {
     "data": {
      "text/plain": [
       "0.00026798248291015625"
      ]
     },
     "metadata": {},
     "output_type": "display_data"
    },
    {
     "name": "stdout",
     "output_type": "stream",
     "text": [
      "w3\n"
     ]
    },
    {
     "data": {
      "text/plain": [
       "array([[0.23747288],\n",
       "       [0.22562411],\n",
       "       [0.22781886],\n",
       "       [0.22898756]])"
      ]
     },
     "metadata": {},
     "output_type": "display_data"
    },
    {
     "name": "stdout",
     "output_type": "stream",
     "text": [
      "tiempo_pinv\n"
     ]
    },
    {
     "data": {
      "text/plain": [
       "0.0009965896606445312"
      ]
     },
     "metadata": {},
     "output_type": "display_data"
    }
   ],
   "source": [
    "m = 15000 # ejemplos\n",
    "n = 4     # caracteristicas\n",
    "X = np.random.rand(m,n) # matriz de diseño: m ejemplos como vectores de dim n\n",
    "\n",
    "y_train = np.random.rand(m,1) # etiquetas\n",
    "\n",
    "# Calculo solucion de minimos cuadrados via factorizacion QR\n",
    "Q, R = np.linalg.qr(X)  # Q ortogonal R trapezoidal X=QR\n",
    "\n",
    "# resolucion: Pesos\n",
    "t = time.time()\n",
    "w0 = np.linalg.lstsq(X,y_train)[0]\n",
    "tiempo_lstsq = time.time() - t\n",
    "\n",
    "print('w0')\n",
    "display(w0)\n",
    "print('tiempo_lstsq')\n",
    "display(tiempo_lstsq)\n",
    "\n",
    "\n",
    "t = time.time()\n",
    "w1 = np.linalg.pinv(R) @ (Q.transpose()@y_train)\n",
    "tiempo_qr = time.time() - t\n",
    "\n",
    "print('w1')\n",
    "display(w1)\n",
    "print('tiempo_qr')\n",
    "display(tiempo_qr)\n",
    "\n",
    "t = time.time()\n",
    "w2 = np.linalg.inv(X.transpose()@X)@X.transpose()@ y_train\n",
    "tiempo_pinv_formula = time.time() - t\n",
    "\n",
    "print('w2')\n",
    "display(w2)\n",
    "print('tiempo_pinv_formula')\n",
    "display(tiempo_pinv_formula)\n",
    "\n",
    "t = time.time()\n",
    "w3 = np.linalg.pinv(X) @ y_train\n",
    "tiempo_pinv = time.time() - t\n",
    "\n",
    "print('w3')\n",
    "display(w3)\n",
    "print('tiempo_pinv')\n",
    "display(tiempo_pinv)\n",
    "\n"
   ]
  },
  {
   "cell_type": "code",
   "execution_count": 10,
   "id": "23b0cd04-fbd9-4c03-8954-95e7e1d1ead2",
   "metadata": {},
   "outputs": [
    {
     "data": {
      "text/plain": [
       "array([[0.16495936]])"
      ]
     },
     "metadata": {},
     "output_type": "display_data"
    }
   ],
   "source": [
    "# Prediccion\n",
    "ejemplo = np.random.rand(n,1)\n",
    "prediccion=w1.transpose()@ejemplo\n",
    "display(prediccion)"
   ]
  },
  {
   "cell_type": "markdown",
   "id": "bd8aaa68-59b7-409d-9bb2-e03f33f15bce",
   "metadata": {},
   "source": [
    "Sistema Sobredeterminado: 1 feature Caso 1D"
   ]
  },
  {
   "cell_type": "code",
   "execution_count": 11,
   "id": "0c1f2987-3b60-480d-b1c6-44f756e28ed4",
   "metadata": {},
   "outputs": [
    {
     "name": "stdout",
     "output_type": "stream",
     "text": [
      "w0\n"
     ]
    },
    {
     "name": "stderr",
     "output_type": "stream",
     "text": [
      "/tmp/ipykernel_16305/2770223054.py:11: FutureWarning: `rcond` parameter will change to the default of machine precision times ``max(M, N)`` where M and N are the input matrix dimensions.\n",
      "To use the future default and silence this warning we advise to pass `rcond=None`, to keep using the old, explicitly pass `rcond=-1`.\n",
      "  w0 = np.linalg.lstsq(X,y_train)[0]\n"
     ]
    },
    {
     "data": {
      "text/plain": [
       "array([[0.81440246]])"
      ]
     },
     "metadata": {},
     "output_type": "display_data"
    },
    {
     "name": "stdout",
     "output_type": "stream",
     "text": [
      "tiempo_lstsq\n"
     ]
    },
    {
     "data": {
      "text/plain": [
       "0.00014352798461914062"
      ]
     },
     "metadata": {},
     "output_type": "display_data"
    },
    {
     "name": "stdout",
     "output_type": "stream",
     "text": [
      "w1\n"
     ]
    },
    {
     "data": {
      "text/plain": [
       "array([[0.81440246]])"
      ]
     },
     "metadata": {},
     "output_type": "display_data"
    },
    {
     "name": "stdout",
     "output_type": "stream",
     "text": [
      "tiempo_qr\n"
     ]
    },
    {
     "data": {
      "text/plain": [
       "0.00014162063598632812"
      ]
     },
     "metadata": {},
     "output_type": "display_data"
    },
    {
     "name": "stdout",
     "output_type": "stream",
     "text": [
      "w2\n"
     ]
    },
    {
     "data": {
      "text/plain": [
       "array([[0.81440246]])"
      ]
     },
     "metadata": {},
     "output_type": "display_data"
    },
    {
     "name": "stdout",
     "output_type": "stream",
     "text": [
      "tiempo_pinv_formula\n"
     ]
    },
    {
     "data": {
      "text/plain": [
       "7.891654968261719e-05"
      ]
     },
     "metadata": {},
     "output_type": "display_data"
    },
    {
     "name": "stdout",
     "output_type": "stream",
     "text": [
      "w3\n"
     ]
    },
    {
     "data": {
      "text/plain": [
       "array([[0.81440246]])"
      ]
     },
     "metadata": {},
     "output_type": "display_data"
    },
    {
     "name": "stdout",
     "output_type": "stream",
     "text": [
      "tiempo_pinv\n"
     ]
    },
    {
     "data": {
      "text/plain": [
       "0.00010895729064941406"
      ]
     },
     "metadata": {},
     "output_type": "display_data"
    }
   ],
   "source": [
    "m = 10  # ejemplos\n",
    "n = 1   # caracteristicas\n",
    "X = np.random.rand(m,n) # matriz de diseño: m ejemplos como vectores de dim n\n",
    "y_train = np.random.rand(m,1) # etiquetas\n",
    "\n",
    "# Calculo solucion de minimos cuadrados via factorizacion QR\n",
    "Q, R = np.linalg.qr(X) # Q ortogonal R trapezoidal X=QR\n",
    "\n",
    "# resolucion: Pesos\n",
    "t = time.time()\n",
    "w0 = np.linalg.lstsq(X,y_train)[0]\n",
    "tiempo_lstsq = time.time() - t\n",
    "\n",
    "print('w0')\n",
    "display(w0)\n",
    "print('tiempo_lstsq')\n",
    "display(tiempo_lstsq)\n",
    "\n",
    "\n",
    "t = time.time()\n",
    "w1 = np.linalg.pinv(R) @ (Q.transpose()@y_train)\n",
    "tiempo_qr = time.time() - t\n",
    "\n",
    "print('w1')\n",
    "display(w1)\n",
    "print('tiempo_qr')\n",
    "display(tiempo_qr)\n",
    "\n",
    "t = time.time()\n",
    "w2 = np.linalg.inv(X.transpose()@X)@X.transpose()@ y_train\n",
    "tiempo_pinv_formula = time.time() - t\n",
    "\n",
    "print('w2')\n",
    "display(w2)\n",
    "print('tiempo_pinv_formula')\n",
    "display(tiempo_pinv_formula)\n",
    "\n",
    "t = time.time()\n",
    "w3 = np.linalg.pinv(X) @ y_train\n",
    "tiempo_pinv = time.time() - t\n",
    "\n",
    "print('w3')\n",
    "display(w3)\n",
    "print('tiempo_pinv')\n",
    "display(tiempo_pinv)"
   ]
  },
  {
   "cell_type": "code",
   "execution_count": 12,
   "id": "760e3bfb-869e-49cf-ad8f-0d755119c572",
   "metadata": {},
   "outputs": [
    {
     "data": {
      "text/plain": [
       "array([[0.1206903]])"
      ]
     },
     "metadata": {},
     "output_type": "display_data"
    }
   ],
   "source": [
    "# Prediccion\n",
    "ejemplo = np.random.rand(n,1)\n",
    "prediccion=w1.transpose()@ejemplo\n",
    "display(prediccion)"
   ]
  },
  {
   "cell_type": "code",
   "execution_count": 13,
   "id": "9fa3c32e-d60a-4056-95dd-691ed53e3271",
   "metadata": {},
   "outputs": [
    {
     "data": {
      "image/png": "[encoded data removed]",
      "text/plain": [
       "<Figure size 432x288 with 1 Axes>"
      ]
     },
     "metadata": {
      "needs_background": "light"
     },
     "output_type": "display_data"
    }
   ],
   "source": [
    "w = symbols('w', real=True)\n",
    "\n",
    "N = Matrix((X@[[w]]-y_train)).norm()**2\n",
    "x = np.linspace(0, 1, 1000)\n",
    "N_np = lambdify(w, N)\n",
    "\n",
    "fig = plt.figure()\n",
    "ax = plt.axes()\n",
    "ax.plot(x, N_np(x))\n",
    "ax.plot(w1.squeeze(), N.subs(w,w1.squeeze()), 'r*')\n",
    "ax.set_xlabel('w')\n",
    "ax.set_title('Minimo del Error Cuadratico Medio MSE') \n",
    "plt.show()"
   ]
  },
  {
   "cell_type": "markdown",
   "id": "6332c3f5-81ab-4c8c-98f7-11b51e7d8f95",
   "metadata": {},
   "source": [
    "Sistema Sobredeterminado 2 feature Caso 2D"
   ]
  },
  {
   "cell_type": "code",
   "execution_count": 14,
   "id": "b146e7ff-973c-4791-b586-0c65c3ee0a72",
   "metadata": {},
   "outputs": [],
   "source": [
    "m = 10 # ejemplos\n",
    "n = 2  # caracteristicas\n",
    "X = np.random.rand(m,n) # matriz de diseño: m ejemplos como vectores de dim n\n",
    "y_train = np.random.rand(m,1) # etiquetas\n"
   ]
  },
  {
   "cell_type": "code",
   "execution_count": 15,
   "id": "859d8584-4f7b-4f17-b130-45f813d1ca6e",
   "metadata": {},
   "outputs": [],
   "source": [
    "# Calculo solucion de minimos cuadrados via factorizacion QR\n",
    "Q, R = np.linalg.qr(X) # Q ortogonal R trapezoidal X=QR\n",
    "\n",
    "# resolucion: Pesos\n",
    "p_1 = np.linalg.pinv(R) @ (Q.transpose()@y_train)\n",
    "\n",
    "p_2 = np.linalg.inv(X.transpose()@X)@X.transpose()@y_train\n",
    "\n",
    "p_3 = np.linalg.pinv(X)@y_train\n"
   ]
  },
  {
   "cell_type": "code",
   "execution_count": 16,
   "id": "0af8cad8-477e-4dec-b874-9a1e07b51f64",
   "metadata": {},
   "outputs": [
    {
     "data": {
      "text/plain": [
       "array([[0.20461416]])"
      ]
     },
     "execution_count": 16,
     "metadata": {},
     "output_type": "execute_result"
    }
   ],
   "source": [
    "# Prediccion\n",
    "ejemplo = np.random.rand(n,1)\n",
    "\n",
    "prediccion = p_1.transpose()@ejemplo\n",
    "prediccion"
   ]
  },
  {
   "cell_type": "code",
   "execution_count": 17,
   "id": "51b52aed-90f2-47a9-aacd-6a918312a477",
   "metadata": {},
   "outputs": [
    {
     "data": {
      "text/plain": [
       "array([[0.20461416]])"
      ]
     },
     "execution_count": 17,
     "metadata": {},
     "output_type": "execute_result"
    }
   ],
   "source": [
    "prediccion = p_2.transpose()@ejemplo\n",
    "prediccion"
   ]
  },
  {
   "cell_type": "code",
   "execution_count": 18,
   "id": "4239e08e-b170-4452-939d-89a78a6f29d5",
   "metadata": {},
   "outputs": [
    {
     "data": {
      "text/plain": [
       "array([[0.20461416]])"
      ]
     },
     "execution_count": 18,
     "metadata": {},
     "output_type": "execute_result"
    }
   ],
   "source": [
    "prediccion = p_3.transpose()@ejemplo\n",
    "prediccion"
   ]
  },
  {
   "cell_type": "code",
   "execution_count": 21,
   "id": "a6492ec4-5a40-4cb9-a127-baf5fd3cb790",
   "metadata": {},
   "outputs": [
    {
     "data": {
      "image/png": "[encoded data removed]",
      "text/plain": [
       "<Figure size 720x720 with 1 Axes>"
      ]
     },
     "metadata": {
      "needs_background": "light"
     },
     "output_type": "display_data"
    }
   ],
   "source": [
    "w0, w1 = symbols('w:2', real=True)\n",
    "W = np.array([[w0], [w1]])\n",
    "\n",
    "N = Matrix((X@W-y_train)**2).norm()\n",
    "x = np.linspace(0, 1, 1000)\n",
    "y = np.linspace(0, 1, 1000)\n",
    "\n",
    "N_np = lambdify((w0,w1), N)#(x,y)\n",
    "\n",
    "fig = plt.figure(figsize=(10,10))\n",
    "ax = plt.axes(projection='3d')\n",
    "# Make data.\n",
    "x_m, y_m = np.meshgrid(x,y)\n",
    "\n",
    "# Plot the surface.\n",
    "surf = ax.plot_surface(x_m, y_m, N_np(x_m,y_m), cmap=cm.coolwarm,\n",
    "                       linewidth=0, antialiased=False, alpha=0.5)\n",
    "\n",
    "# plt.scatter(x=[1], y=[1], zs=[1.0])\n",
    "ax.scatter(p_1[0],p_1[1], zs=N.subs({w0:p_1[0].squeeze(), w1:p_1[1].squeeze()}), c = 'r', s=50, marker='o')\n",
    "plt.title('Minimo del Error Cuadratico Medio MSE') \n",
    "plt.show()"
   ]
  },
  {
   "cell_type": "markdown",
   "id": "4d01c6af-746a-4a5b-b3cc-6d9d88531405",
   "metadata": {},
   "source": [
    "# Propuesto 5.1"
   ]
  },
  {
   "cell_type": "code",
   "execution_count": 20,
   "id": "900fa35d-8fef-4cac-a69f-95c9c615696b",
   "metadata": {},
   "outputs": [],
   "source": [
    "# clear all\n",
    "A = np.array([[2, -1],\n",
    "              [0,  1],\n",
    "              [1,  0],\n",
    "              [-1, 2]])\n",
    "b = np.array([[1],[0],[2],[4]])\n",
    "\n",
    "m, n = A.shape\n",
    "\n",
    "# no existencia\n",
    "rango = np.linalg.matrix_rank(A)\n",
    "rango_amp = np.linalg.matrix_rank(np.concatenate([A, b],-1))\n"
   ]
  }
 ],
 "metadata": {
  "kernelspec": {
   "display_name": "Python 3 (ipykernel)",
   "language": "python",
   "name": "python3"
  },
  "language_info": {
   "codemirror_mode": {
    "name": "ipython",
    "version": 3
   },
   "file_extension": ".py",
   "mimetype": "text/x-python",
   "name": "python",
   "nbconvert_exporter": "python",
   "pygments_lexer": "ipython3",
   "version": "3.9.6"
  }
 },
 "nbformat": 4,
 "nbformat_minor": 5
}
