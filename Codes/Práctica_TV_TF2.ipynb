{
 "cells": [
  {
   "cell_type": "markdown",
   "metadata": {},
   "source": [
    "# **<center>Practica Tensorflow TV</center>**\n",
    " \n",
    "\n",
    "#### <center>13 de Diciembre, 2021</center>\n",
    "\n",
    "## **Modelo Denoising a Resolver**\n",
    "\n",
    "### 1. **Formulación del problema**\n",
    "\n",
    "$$\n",
    "\\begin{equation}\\label{eq:p1}\n",
    " u^* = \\mbox{arg}\\min_{u} C(u) = \\mbox{arg}\\min_{u}  \\int_{\\Omega} (f - u)^2 d\\textbf{x} + \\lambda TV_{\\epsilon}(u) ~~~ (1)\n",
    "\\end{equation}\n",
    "$$\n",
    "\n",
    "donde:\n",
    "\n",
    "$$\n",
    "TV_{\\epsilon}(u) = \\int_{\\Omega}| \\nabla u|_{\\epsilon} d\\textbf{x} = \\int_{\\Omega}\\sqrt{u_x^2 + u_y^2 + \\epsilon} ~ d\\textbf{x}\n",
    "$$\n",
    "\n",
    "Minimización con descenso de gradiente:\n",
    "\n",
    "$$\n",
    "u^{t+1} = u^t - \\alpha \\frac{\\partial C(u)}{\\partial u}\n",
    "$$\n",
    "\n",
    "### 2. **Práctica**\n",
    "\n",
    "Se pide obtener la solución de (1) usando un framework (TensorFlow, Pytorch, etc) provisto de diferenciación automática."
   ]
  },
  {
   "cell_type": "code",
   "execution_count": null,
   "metadata": {
    "colab": {
     "base_uri": "https://localhost:8080/"
    },
    "id": "odconAxAly7g",
    "outputId": "c22f30c3-6716-42a7-a84d-aaf43e9b245b"
   },
   "outputs": [],
   "source": [
    "!git clone https://github.com/rollervan/FunMat.git temp\n",
    "!cp -r ./temp/Codes/Images ./\n",
    "!rm -rf ./temp"
   ]
  },
  {
   "cell_type": "markdown",
   "metadata": {
    "id": "SBqxxzi8P7gh"
   },
   "source": [
    "**Importamos librerias**"
   ]
  },
  {
   "cell_type": "code",
   "execution_count": null,
   "metadata": {
    "id": "1ksKAMZRbwNp"
   },
   "outputs": [],
   "source": [
    "import tensorflow as tf\n",
    "import numpy as np\n",
    "import cv2\n",
    "import matplotlib.pyplot as plt\n",
    "from tqdm import tqdm\n"
   ]
  },
  {
   "cell_type": "markdown",
   "metadata": {
    "id": "uqFEDxUNzxWc"
   },
   "source": [
    "**Definiciones**"
   ]
  },
  {
   "cell_type": "code",
   "execution_count": null,
   "metadata": {
    "id": "JChgsrw3zwJL"
   },
   "outputs": [],
   "source": [
    "def Prior_p(u, p=1, eps = 1e-6):\n",
    "#  Esta función devuelve el término apriori |∇u|^p\n",
    "#  Completar\n",
    "    ux, uy = \n",
    "    mod = \n",
    "    prior=  \n",
    "\n",
    "    return prior\n",
    "\n",
    "\n",
    "def gradient(u):\n",
    "#  Esta función devuelve el gradiente de u\n",
    "#  ux, uy = ∇u\n",
    "#  Completar\n",
    "    x_filter = \n",
    "\n",
    "\n",
    "    x_filter = tf.reshape(x_filter, [3, 3, 1, 1])\n",
    "\n",
    "\n",
    "    y_filter = \n",
    "    \n",
    "    y_filter = tf.reshape(y_filter, [3, 3, 1, 1])\n",
    "\n",
    "    ux0 = tf.nn.conv2d(tf.expand_dims(u[:,:,:,0],-1), x_filter, strides=[1, 1, 1, 1], padding=\"SAME\")\n",
    "    ux1 = tf.nn.conv2d(tf.expand_dims(u[:,:,:,1],-1), x_filter, strides=[1, 1, 1, 1], padding=\"SAME\")\n",
    "    ux2 = tf.nn.conv2d(tf.expand_dims(u[:,:,:,2],-1), x_filter, strides=[1, 1, 1, 1], padding=\"SAME\")\n",
    "    ux = tf.concat([ux0,ux1,ux2],-1)\n",
    "    uy0 = tf.nn.conv2d(tf.expand_dims(u[:,:,:,0],-1), y_filter, strides=[1, 1, 1, 1], padding=\"SAME\")\n",
    "    uy1 = tf.nn.conv2d(tf.expand_dims(u[:,:,:,1],-1), y_filter, strides=[1, 1, 1, 1], padding=\"SAME\")\n",
    "    uy2 = tf.nn.conv2d(tf.expand_dims(u[:,:,:,2],-1), y_filter, strides=[1, 1, 1, 1], padding=\"SAME\")\n",
    "    uy = tf.concat([uy0,uy1,uy2],-1)\n",
    "    return ux, uy\n"
   ]
  },
  {
   "cell_type": "markdown",
   "metadata": {
    "id": "TLA78iBrQkJf"
   },
   "source": [
    "**Cargamos, cambiamos el tamaño y normalizamos la imagen**"
   ]
  },
  {
   "cell_type": "code",
   "execution_count": null,
   "metadata": {
    "id": "8QFbJPib3ACJ"
   },
   "outputs": [],
   "source": [
    "IM_ROWS = 256\n",
    "IM_COLS = 256\n",
    "IM_DEPTH = 3\n",
    "\n",
    "im = cv2.imread('Images/vaca.jpg')\n",
    "im = cv2.cvtColor(im, cv2.COLOR_BGR2RGB)\n",
    "\n",
    "im = cv2.resize(im,(IM_ROWS,IM_COLS))\n",
    "im = np.reshape(im,newshape=[1,IM_ROWS,IM_COLS,IM_DEPTH])\n",
    "im = cv2.normalize(im.astype('float'), None, 0.0, 1.0, cv2.NORM_MINMAX)\n",
    "im_org = im\n",
    "im = im + 1*np.random.normal(0, 0.1,im.shape)\n",
    "im = np.minimum(1.0,np.maximum(0.,im))"
   ]
  },
  {
   "cell_type": "markdown",
   "metadata": {
    "id": "xSYor0xvQsf7"
   },
   "source": [
    "**Imagen Ruidosa**"
   ]
  },
  {
   "cell_type": "code",
   "execution_count": null,
   "metadata": {
    "colab": {
     "base_uri": "https://localhost:8080/",
     "height": 594
    },
    "id": "xxHWMJp_3sgl",
    "outputId": "ba1280cc-dbf7-47bd-88fa-af1987a558d9"
   },
   "outputs": [],
   "source": [
    "plt.figure(figsize=(10,10))\n",
    "plt.imshow(im[0,...])\n",
    "plt.show()"
   ]
  },
  {
   "cell_type": "markdown",
   "metadata": {
    "id": "t7PfK5HWQ2dj"
   },
   "source": [
    "**Creamos variables en TensorFlow**"
   ]
  },
  {
   "cell_type": "code",
   "execution_count": null,
   "metadata": {
    "colab": {
     "base_uri": "https://localhost:8080/"
    },
    "id": "QGAnX-5T_LFM",
    "outputId": "9aaed66a-53a0-48bf-fc8d-390dd02dc859"
   },
   "outputs": [],
   "source": [
    "# Completar\n",
    "\n",
    "org = tf.Variable(tf.zeros(shape=(1,IM_ROWS,IM_COLS, IM_DEPTH)), name=\"org\", trainable=???)\n",
    "org.assign(im_org)\n",
    "f = tf.Variable(tf.zeros(shape=(1,IM_ROWS,IM_COLS, IM_DEPTH)), name=\"f\", trainable=???)\n",
    "f.assign(im)\n",
    "u = tf.Variable(tf.zeros(shape=(1,IM_ROWS,IM_COLS, IM_DEPTH)), name=\"u\", trainable=???)\n",
    "u.assign(im)"
   ]
  },
  {
   "cell_type": "markdown",
   "metadata": {
    "id": "IyZbHEz7Q5in"
   },
   "source": [
    "**Comprobamos la función 'gradient'**"
   ]
  },
  {
   "cell_type": "code",
   "execution_count": null,
   "metadata": {
    "colab": {
     "base_uri": "https://localhost:8080/",
     "height": 304
    },
    "id": "-wE13eEAJHxN",
    "outputId": "8ceaa417-9a80-42d6-fe4d-c4aac5135614"
   },
   "outputs": [],
   "source": [
    "ux,uy = gradient(f)\n",
    "mod = tf.sqrt( ux**2  + uy**2)\n",
    "plt.imshow(mod[0,...])"
   ]
  },
  {
   "cell_type": "code",
   "execution_count": null,
   "metadata": {
    "colab": {
     "base_uri": "https://localhost:8080/",
     "height": 610
    },
    "id": "fCg5bnhO_Gk9",
    "outputId": "33d2b35b-5f79-4398-87bb-9094ce671831"
   },
   "outputs": [],
   "source": [
    "ux,uy = gradient(f)\n",
    "fig, axs = plt.subplots(1,2,figsize=(20,20))\n",
    "axs[0].imshow(ux[0,...])\n",
    "axs[1].imshow(uy[0,...])"
   ]
  },
  {
   "cell_type": "markdown",
   "metadata": {
    "id": "uuX_acuz_hhr"
   },
   "source": [
    "**Definimos la función de coste (funcional de energía) a minimizar y el gradiente asociado**"
   ]
  },
  {
   "cell_type": "code",
   "execution_count": null,
   "metadata": {
    "id": "eJFM7jYAB-St"
   },
   "outputs": [],
   "source": [
    "\n",
    "lda = 1 #@param {type:\"raw\"}\n",
    "\n",
    "def Cost(u):\n",
    "    return  # Completar\n",
    "\n",
    "def grad(u):\n",
    "    with tf.GradientTape() as g:\n",
    "        C = Cost(u)\n",
    "        dC_du = g.gradient(C, u)\n",
    "    return C, dC_du\n",
    "\n"
   ]
  },
  {
   "cell_type": "markdown",
   "metadata": {
    "id": "J3AgkJmQDvpV"
   },
   "source": [
    "**Seleccionamos el optimizador y creamos el bucle de minimización**"
   ]
  },
  {
   "cell_type": "code",
   "execution_count": null,
   "metadata": {
    "colab": {
     "base_uri": "https://localhost:8080/"
    },
    "id": "Pj6dwEV27_n4",
    "outputId": "fb981fbd-d399-4f85-c42a-ed605a364bd7"
   },
   "outputs": [],
   "source": [
    "# Reasignamos el valor original de la imagen ruidosa\n",
    "u.assign(im)\n",
    "\n",
    "train_C_results = []\n",
    "psnr_results = []\n",
    "opt =  # Completar\n",
    "Nit = 1000 #@param {type:\"raw\"}\n",
    "\n",
    "for i in tqdm(range(Nit)):\n",
    "\n",
    "    C_value, grads = grad(u)\n",
    "    opt.apply_gradients([(grads, u)])\n",
    "\n",
    "    psnr_value = tf.image.psnr(org, u, max_val=1.0)\n",
    "    # Track progress\n",
    "\n",
    "    train_C_results.append(C_value)\n",
    "    psnr_results.append(psnr_value)\n"
   ]
  },
  {
   "cell_type": "code",
   "execution_count": null,
   "metadata": {
    "colab": {
     "base_uri": "https://localhost:8080/",
     "height": 585
    },
    "id": "_PYRnSrVK0oC",
    "outputId": "5a2e9da6-50a4-4bf0-9d06-f37aa84078c7"
   },
   "outputs": [],
   "source": [
    "fig, axs = plt.subplots(1,2,figsize=(20,9))\n",
    "\n",
    "axs[0].plot(train_C_results)\n",
    "axs[0].set_title('Cost Value')\n",
    "axs[0].set_xlabel('Iteraciones')\n",
    "axs[1].plot(psnr_results)\n",
    "axs[1].set_title('PSNR (db)')\n",
    "axs[1].set_xlabel('Iteraciones')"
   ]
  },
  {
   "cell_type": "code",
   "execution_count": null,
   "metadata": {
    "colab": {
     "base_uri": "https://localhost:8080/",
     "height": 575
    },
    "id": "sSwkp6xDGMXz",
    "outputId": "12adb684-ebde-4932-ac2e-4b2a6315c46a"
   },
   "outputs": [],
   "source": [
    "fig, axs = plt.subplots(1,2,figsize=(20,20))\n",
    "axs[0].imshow(f[0,...])\n",
    "axs[1].imshow(u[0,...])"
   ]
  }
 ],
 "metadata": {
  "accelerator": "TPU",
  "colab": {
   "collapsed_sections": [],
   "name": "Práctica_TV_TF2.ipynb",
   "provenance": []
  },
  "kernelspec": {
   "display_name": "Python 3 (ipykernel)",
   "language": "python",
   "name": "python3"
  },
  "language_info": {
   "codemirror_mode": {
    "name": "ipython",
    "version": 3
   },
   "file_extension": ".py",
   "mimetype": "text/x-python",
   "name": "python",
   "nbconvert_exporter": "python",
   "pygments_lexer": "ipython3",
   "version": "3.9.6"
  }
 },
 "nbformat": 4,
 "nbformat_minor": 4
}
