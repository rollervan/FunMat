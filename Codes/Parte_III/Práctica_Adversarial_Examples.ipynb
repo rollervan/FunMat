{
 "cells": [
  {
   "cell_type": "markdown",
   "metadata": {
    "id": "gedEgVj4u6v0"
   },
   "source": [
    "# **<center>Práctica: Adversarial Examples</center>**\n",
    "\n",
    "#### <center>20 de diciembre, 2021</center>\n",
    "\n",
    "Los ejemplos adversarios (Adversarial Examples - AE) en redes neuronales han puesto recientemente en duda la robustez de dichas funciones, al ser capaces de cambiar la predicción de una red sin más que perturbar mínimamente los datos de entrada. El modelo de ataque se describe como la adición de una pertubación:\n",
    "\n",
    "\\begin{align}\n",
    "    % \\delta^* = \\mbox{arg}\\max_{\\delta \\in \\Delta} \\mathcal{L}(y,x+\\delta), ~\\text{where}~\\Delta = \\lbrace \\delta: ||\\delta||_{\\infty} \\leq \\epsilon \\rbrace\n",
    "    x_{adv} &= x + \\delta     % \\text{ donde } \\delta =  \\epsilon \\cdot sign \\left( \\frac{\\partial \\mathcal{L}(y_{target},\\hat{y})}{\\partial x} \\right).\n",
    "\\end{align}\n",
    "Es decir, buscamos la perturbación $\\delta$ de tal forma que la predicción hecha por la red sea distinta a la original: \n",
    "$$\n",
    "\\hat{y} = f(x, \\theta) \\neq \\hat{y}_{adv} = f(x_{adv}, \\theta)\n",
    "$$  \n",
    "\n",
    "En este ejercicio se pide construir un ejemplo adversario para una red convolucional. El modelo de ataque a usar se describe a continuación.\n",
    " \n",
    "### **Non-Targeted Attack:**\n",
    "$$\n",
    " \\begin{align}\n",
    "    % \\delta^* = \\mbox{arg}\\max_{\\delta \\in \\Delta} \\mathcal{L}(y,x+\\delta), ~\\text{where}~\\Delta = \\lbrace \\delta: ||\\delta||_{\\infty} \\leq \\epsilon \\rbrace\n",
    "    x_{adv} &= x +  \\epsilon \\cdot sign \\left( \\frac{\\partial \\mathcal{L}(y,\\hat{y})}{\\partial x} \\right).\n",
    "\\end{align}\n",
    "$$\n",
    "\n",
    "La perturbación $\\delta$ se produce en la dirección de ascenso de la función de pérdidas. Es decir, buscamos que la pérdida (error) asociada al ejemplo $x$ aumente.\n",
    "\n",
    "### **Targeted Attack:**\n",
    "\n",
    "\n",
    "\\begin{align}\n",
    "    % \\delta^* = \\mbox{arg}\\max_{\\delta \\in \\Delta} \\mathcal{L}(y,x+\\delta), ~\\text{where}~\\Delta = \\lbrace \\delta: ||\\delta||_{\\infty} \\leq \\epsilon \\rbrace\n",
    "    x_{adv} &= x -  \\epsilon \\cdot sign \\left( \\frac{\\partial \\mathcal{L}(y_{target},\\hat{y})}{\\partial x} \\right).\n",
    "\\end{align}\n",
    "En este caso buscamos la perturbación $\\delta$ para una etiqueta diferente de la original. Este ataque es conocido como *targeted attack*, y no solo permite engañar a la red sino también forzar su salida en un sentido concreto. "
   ]
  },
  {
   "cell_type": "code",
   "execution_count": null,
   "metadata": {
    "id": "sJJYKAcBgXxd"
   },
   "outputs": [],
   "source": [
    "import tensorflow as tf\n",
    "import matplotlib.pyplot as plt\n",
    "from tensorflow.keras import regularizers"
   ]
  },
  {
   "cell_type": "code",
   "execution_count": null,
   "metadata": {
    "colab": {
     "base_uri": "https://localhost:8080/"
    },
    "id": "gFNxUS51QY3z",
    "outputId": "cbcf57a0-62e3-4357-fb1f-b25b19da6400"
   },
   "outputs": [],
   "source": [
    "cifar10 = tf.keras.datasets.cifar10\n",
    "(train_images, train_labels), (test_images, test_labels) = cifar10.load_data()\n",
    "\n",
    "train_images = train_images / 255.0\n",
    "test_images = test_images / 255.0\n",
    "\n",
    "num_classes = 10"
   ]
  },
  {
   "cell_type": "markdown",
   "metadata": {
    "id": "Re0vrHocsANF"
   },
   "source": [
    "**Entrenamos una red con keras**"
   ]
  },
  {
   "cell_type": "code",
   "execution_count": null,
   "metadata": {
    "colab": {
     "base_uri": "https://localhost:8080/"
    },
    "id": "RIseknxcgVd7",
    "outputId": "a92aa782-bdc2-4ea6-a719-1c5f23d99538"
   },
   "outputs": [],
   "source": [
    " #Completar"
   ]
  },
  {
   "cell_type": "markdown",
   "metadata": {
    "id": "gZjro5vmsOe8"
   },
   "source": [
    "**Seleccionamos una imagen del conjunto de test**\n"
   ]
  },
  {
   "cell_type": "code",
   "execution_count": null,
   "metadata": {
    "colab": {
     "base_uri": "https://localhost:8080/",
     "height": 298
    },
    "id": "AIB6iBL3hwOV",
    "outputId": "c543e6dd-0d7e-498d-8aa2-a4b35e84f02f"
   },
   "outputs": [],
   "source": [
    "x = test_images[0:1,...]\n",
    "y = test_labels[0:1,...]\n",
    "x.shape\n",
    "plt.imshow(x[0,...])\n",
    "plt.title('Label: '+str(y))"
   ]
  },
  {
   "cell_type": "markdown",
   "metadata": {
    "id": "k2vQPtpUuwK6"
   },
   "source": [
    "**Non-Targeted Attack**"
   ]
  },
  {
   "cell_type": "code",
   "execution_count": null,
   "metadata": {
    "id": "G5nxE65zgoX6"
   },
   "outputs": [],
   "source": [
    "ep = 0.03\n",
    "\n",
    "x = tf.convert_to_tensor(x)\n",
    "y = tf.convert_to_tensor(y)\n",
    "\n",
    "with tf.GradientTape() as g:\n",
    "    g.watch(x)\n",
    "    y_pred = model(x)\n",
    "    loss =                      # Rellenar \n",
    "    \n",
    "grad =                          # Rellenar \n",
    "pert =                          # Rellenar\n",
    "x_adv =                         # Rellenar "
   ]
  },
  {
   "cell_type": "code",
   "execution_count": null,
   "metadata": {
    "colab": {
     "base_uri": "https://localhost:8080/",
     "height": 376
    },
    "id": "EzD0KFFAkqTc",
    "outputId": "dd694bf4-c100-4077-f70d-d95cee9142ce"
   },
   "outputs": [],
   "source": [
    "fig, axs = plt.subplots(1,4,figsize=(20,20))\n",
    "\n",
    "pred_x = tf.argmax(model(x),-1).numpy()\n",
    "axs[0].imshow(x[0,...].numpy())\n",
    "axs[0].set_title('Pred: '+str(pred_x))\n",
    "\n",
    "pred_x_adv = tf.argmax(model(x_adv),-1).numpy()\n",
    "axs[1].imshow(x_adv[0,...].numpy())\n",
    "axs[1].set_title('Pred: '+str(pred_x_adv))\n",
    "\n",
    "grad_scaled = grad[0,...].numpy() / grad[0,...].numpy().max()\n",
    "axs[2].imshow(grad_scaled)\n",
    "axs[2].set_title('Grad')\n",
    "\n",
    "axs[3].imshow(pert[0,...].numpy())\n",
    "axs[3].set_title('Pert')"
   ]
  },
  {
   "cell_type": "markdown",
   "metadata": {
    "id": "NxA8cg1Hu4TY"
   },
   "source": [
    "**Targeted Attack**"
   ]
  },
  {
   "cell_type": "code",
   "execution_count": null,
   "metadata": {
    "id": "2h5Gk-OSu6pf"
   },
   "outputs": [],
   "source": [
    "ep = 0.03\n",
    "\n",
    "x = tf.convert_to_tensor(x)\n",
    "y = tf.convert_to_tensor(y)\n",
    "y_target =                    # Rellenar \n",
    "\n",
    "with tf.GradientTape() as g:\n",
    "    g.watch(x)\n",
    "    y_pred = model(x)\n",
    "    loss =                    # Rellenar \n",
    "grad =                        # Rellenar \n",
    "pert =                        # Rellenar \n",
    "x_adv =                       # Rellenar "
   ]
  },
  {
   "cell_type": "code",
   "execution_count": null,
   "metadata": {
    "colab": {
     "base_uri": "https://localhost:8080/",
     "height": 376
    },
    "id": "sd7HuuOpvJhG",
    "outputId": "d88bc7e6-f999-4b58-c06a-bbfee8f3227e"
   },
   "outputs": [],
   "source": [
    "fig, axs = plt.subplots(1,4,figsize=(20,20))\n",
    "\n",
    "pred_x = tf.argmax(model(x),-1).numpy()\n",
    "axs[0].imshow(x[0,...].numpy())\n",
    "axs[0].set_title('Pred: '+str(pred_x))\n",
    "\n",
    "pred_x_adv = tf.argmax(model(x_adv),-1).numpy()\n",
    "axs[1].imshow(x_adv[0,...].numpy())\n",
    "axs[1].set_title('Pred: '+str(pred_x_adv))\n",
    "\n",
    "grad_scaled = grad[0,...].numpy() / grad[0,...].numpy().max()\n",
    "axs[2].imshow(grad_scaled)\n",
    "\n",
    "axs[3].imshow(pert[0,...].numpy())\n",
    "axs[3].set_title('Pert')"
   ]
  }
 ],
 "metadata": {
  "accelerator": "GPU",
  "colab": {
   "collapsed_sections": [],
   "name": "Práctica Adversarial Examples.ipynb",
   "provenance": []
  },
  "kernelspec": {
   "display_name": "Python 3 (ipykernel)",
   "language": "python",
   "name": "python3"
  },
  "language_info": {
   "codemirror_mode": {
    "name": "ipython",
    "version": 3
   },
   "file_extension": ".py",
   "mimetype": "text/x-python",
   "name": "python",
   "nbconvert_exporter": "python",
   "pygments_lexer": "ipython3",
   "version": "3.9.6"
  }
 },
 "nbformat": 4,
 "nbformat_minor": 4
}
