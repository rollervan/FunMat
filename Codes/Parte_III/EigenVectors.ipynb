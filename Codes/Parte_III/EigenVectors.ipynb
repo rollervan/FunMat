{
 "cells": [
  {
   "cell_type": "markdown",
   "id": "80c58855-7678-4710-bc1c-c475d3e0f1d3",
   "metadata": {},
   "source": [
    "Visualización de la invarianza de los autovectores"
   ]
  },
  {
   "cell_type": "code",
   "execution_count": 3,
   "id": "0845b78a-18ce-4bc1-be0c-825e8de99fdd",
   "metadata": {},
   "outputs": [
    {
     "data": {
      "image/png": "[encoded data removed]",
      "text/plain": [
       "<Figure size 432x288 with 1 Axes>"
      ]
     },
     "metadata": {
      "needs_background": "light"
     },
     "output_type": "display_data"
    }
   ],
   "source": [
    "from sympy import *\n",
    "import numpy as np\n",
    "import matplotlib.pyplot as plt\n",
    "%matplotlib inline\n",
    "\n",
    "B = Matrix([[1, 2],[1, 0]])\n",
    "I = Matrix([[1, 0],[0, 1]])\n",
    "lda = 0.58 #@param {type:\"slider\", min:0, max:1, step:0.01}\n",
    "A = lda*I + (1-lda)*B\n",
    "x = Matrix([1, 0])\n",
    "\n",
    "x = np.asarray(x, dtype=np.float32)\n",
    "v = np.asarray(A*x, dtype=np.float32)\n",
    "\n",
    "eigv = A.eigenvects()\n",
    "\n",
    "v1 = eigv[0][2][0]\n",
    "v2 = eigv[1][2][0]\n",
    "\n",
    "\n",
    "v1 = np.asarray(v1, dtype=np.float32)\n",
    "v2 = np.asarray(v2, dtype=np.float32)\n",
    "Av1 = np.asarray(A*v1, dtype=np.float32)\n",
    "Av2 = np.asarray(A*v2, dtype=np.float32)\n",
    "\n",
    "plt.figure()\n",
    "plt.quiver(0, 0, 1, 0, angles='xy', scale_units='xy', scale=1, \n",
    "           color=['g'])\n",
    "plt.quiver(0, 0, 0, 1, angles='xy', scale_units='xy', scale=1, \n",
    "           color=['g'])\n",
    "\n",
    "plt.quiver(0, 0, v1[0], v1[1], angles='xy', scale_units='xy', scale=1, \n",
    "           color=['k'])\n",
    "plt.quiver(0, 0, v2[0], v2[1], angles='xy', scale_units='xy', scale=1, \n",
    "           color=['k'])\n",
    "\n",
    "plt.quiver(0, 0, Av1[0], Av1[1], angles='xy', scale_units='xy', scale=1, \n",
    "           color=['r'])\n",
    "plt.quiver(0, 0, Av2[0],Av2[1], angles='xy', scale_units='xy', scale=1, \n",
    "           color=['b'])\n",
    "plt.xlim(-3,3)\n",
    "plt.ylim(-3,3)\n",
    "plt.show()"
   ]
  }
 ],
 "metadata": {
  "kernelspec": {
   "display_name": "Python 3 (ipykernel)",
   "language": "python",
   "name": "python3"
  },
  "language_info": {
   "codemirror_mode": {
    "name": "ipython",
    "version": 3
   },
   "file_extension": ".py",
   "mimetype": "text/x-python",
   "name": "python",
   "nbconvert_exporter": "python",
   "pygments_lexer": "ipython3",
   "version": "3.10.12"
  }
 },
 "nbformat": 4,
 "nbformat_minor": 5
}
