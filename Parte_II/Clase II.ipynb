{
 "cells": [
  {
   "cell_type": "markdown",
   "id": "27298229-30c8-41cc-8b66-d035830e27f2",
   "metadata": {},
   "source": [
    "# Clase II"
   ]
  },
  {
   "cell_type": "markdown",
   "id": "1bca1a45-fa16-4fb1-bec3-00578f917576",
   "metadata": {},
   "source": [
    "Copiamos la carpeta de imágenes desde el repositorio"
   ]
  },
  {
   "cell_type": "code",
   "execution_count": 1,
   "id": "5b38871f-aed8-4b9f-9818-d8d550362bbd",
   "metadata": {},
   "outputs": [
    {
     "name": "stdout",
     "output_type": "stream",
     "text": [
      "Cloning into 'temp'...\n",
      "remote: Enumerating objects: 94, done.\u001b[K\n",
      "remote: Counting objects: 100% (94/94), done.\u001b[K\n",
      "remote: Compressing objects: 100% (79/79), done.\u001b[K\n",
      "remote: Total 94 (delta 21), reused 85 (delta 14), pack-reused 0\u001b[K\n",
      "Receiving objects: 100% (94/94), 11.38 MiB | 10.12 MiB/s, done.\n",
      "Resolving deltas: 100% (21/21), done.\n"
     ]
    }
   ],
   "source": [
    "!git clone https://github.com/rollervan/FunMat.git temp\n",
    "!cp -r ./temp/Codes/Images ./\n",
    "!rm -rf ./temp"
   ]
  },
  {
   "cell_type": "markdown",
   "id": "2c2cfe67-b095-4b86-8fc5-93fe1b486219",
   "metadata": {},
   "source": [
    "Definicion vectores en 2D\n"
   ]
  },
  {
   "cell_type": "code",
   "execution_count": 47,
   "id": "8f8c828b-459c-4903-9153-aefdb56a5a20",
   "metadata": {},
   "outputs": [],
   "source": [
    "import numpy as np\n",
    "import matplotlib.pyplot as plt"
   ]
  },
  {
   "cell_type": "code",
   "execution_count": 48,
   "id": "e374dddf-0ba7-49f5-94b5-a88579bcccfd",
   "metadata": {},
   "outputs": [
    {
     "data": {
      "application/vnd.jupyter.widget-view+json": {
       "model_id": "24a5ab32c15c42ee94c69b75bd50051a",
       "version_major": 2,
       "version_minor": 0
      },
      "text/plain": [
       "Canvas(toolbar=Toolbar(toolitems=[('Home', 'Reset original view', 'home', 'home'), ('Back', 'Back to previous …"
      ]
     },
     "metadata": {},
     "output_type": "display_data"
    }
   ],
   "source": [
    "orig = np.zeros([5,2])\n",
    "v_1 = np.array([[1],[0]])\n",
    "v_2 = np.array([[1],[1]])\n",
    "n_1 = np.array([[-1],[1]])\n",
    "n_2 = np.array([[0],[2]])\n",
    "u_1 = np.array([[3],[7]])\n",
    "\n",
    "u = np.concatenate([v_1, v_2, n_1, n_2, u_1], axis=1).transpose()\n",
    "plt.figure()\n",
    "plt.quiver(orig[:,0], orig[:,1], u[:,0], u[:,1], \n",
    "           angles='xy', scale_units='xy', scale=1, \n",
    "           color=['r', 'g', 'b', 'c', 'k'])\n",
    "\n",
    "plt.xlim(-2,4)\n",
    "plt.ylim(-1,8)\n",
    "plt.show()"
   ]
  },
  {
   "cell_type": "markdown",
   "id": "7d1989e3-7968-49e2-9839-5e04bcac5673",
   "metadata": {},
   "source": [
    "Definicion vectores en 3D\n"
   ]
  },
  {
   "cell_type": "code",
   "execution_count": 4,
   "id": "65cf3e34-1274-4990-a321-e3bfc9cca275",
   "metadata": {},
   "outputs": [],
   "source": [
    "orig = np.asarray([0,0,0]).reshape(3,1)\n",
    "u=np.asarray([-4,2,-1]).reshape(3,1)\n",
    "v=np.asarray([2,-1,1/2]).reshape(3,1)\n",
    "w=np.asarray([0,1,2]).reshape(3,1)\n",
    "r=np.asarray([-2,-1,-1]).reshape(3,1)"
   ]
  },
  {
   "cell_type": "code",
   "execution_count": 5,
   "id": "22d703f4-037a-49d1-a0c3-e9dd8bea19e9",
   "metadata": {},
   "outputs": [
    {
     "data": {
      "image/png": "[encoded data removed]",
      "text/plain": [
       "<Figure size 432x288 with 1 Axes>"
      ]
     },
     "metadata": {
      "needs_background": "light"
     },
     "output_type": "display_data"
    }
   ],
   "source": [
    "ax = plt.figure().add_subplot(projection='3d')\n",
    "ax.quiver(orig[0], orig[1], orig[2], u[0], u[1], u[2], length=1, arrow_length_ratio=0.1, color='r')\n",
    "ax.quiver(orig[0], orig[1], orig[2], v[0], v[1], v[2], length=1, arrow_length_ratio=0.1, color='b')\n",
    "ax.quiver(orig[0], orig[1], orig[2], w[0], w[1], w[2], length=1, arrow_length_ratio=0.1, color='g')\n",
    "ax.quiver(orig[0], orig[1], orig[2], r[0], r[1], r[2], length=1, arrow_length_ratio=0.1, color='m')\n",
    "\n",
    "ax.quiver(orig[0], orig[1], orig[2], [1], [0], [0], length=1, arrow_length_ratio=0.1, color='k')\n",
    "ax.quiver(orig[0], orig[1], orig[2], [0], [1], [0], length=1, arrow_length_ratio=0.1, color='k')\n",
    "ax.quiver(orig[0], orig[1], orig[2], [0], [0], [1], length=1, arrow_length_ratio=0.1, color='k')\n",
    "\n",
    "ax.set_xlim(-4,4)\n",
    "ax.set_ylim(-4,4)\n",
    "ax.set_zlim(-4,4)\n",
    "plt.show()"
   ]
  },
  {
   "cell_type": "markdown",
   "id": "60ab6000-ae8d-4fca-9197-9cfff2ced876",
   "metadata": {},
   "source": [
    "# 2.1.1. Dependencia e Independencia Lineal \n",
    "Ejercicio 2.1 estudiar independencia lineal\n",
    "\n",
    "* Para esta sección utilizaremos la librería de cómputo simbólico ```sympy```"
   ]
  },
  {
   "cell_type": "code",
   "execution_count": 55,
   "id": "c5a3c501-0393-4e5d-86a9-b39869582af0",
   "metadata": {},
   "outputs": [
    {
     "data": {
      "text/latex": [
       "$\\displaystyle \\left[\\begin{matrix}1 & 0 & 1\\\\-1 & 1 & 0\\\\0 & 2 & 2\\end{matrix}\\right]$"
      ],
      "text/plain": [
       "Matrix([\n",
       "[ 1, 0, 1],\n",
       "[-1, 1, 0],\n",
       "[ 0, 2, 2]])"
      ]
     },
     "execution_count": 55,
     "metadata": {},
     "output_type": "execute_result"
    }
   ],
   "source": [
    "from sympy import *\n",
    "from IPython.display import Math, display\n",
    "\n",
    "v_1=[1,-1,0] # definimos los vectores fila \n",
    "v_2=[0,1,2]\n",
    "v_3=[1,0,2]\n",
    "\n",
    "A = Matrix([v_1, v_2, v_3]).transpose() # por eso transponemos la matriz\n",
    "A\n"
   ]
  },
  {
   "cell_type": "code",
   "execution_count": null,
   "id": "03e4326a-69d8-4cc8-81a6-1514bd34be63",
   "metadata": {},
   "outputs": [
    {
     "data": {
      "text/latex": [
       "$\\displaystyle \\left[\\begin{matrix}1\\\\-1\\\\0\\end{matrix}\\right]$"
      ],
      "text/plain": [
       "Matrix([\n",
       "[ 1],\n",
       "[-1],\n",
       "[ 0]])"
      ]
     },
     "execution_count": 51,
     "metadata": {},
     "output_type": "execute_result"
    }
   ],
   "source": [
    "Matrix([1, -1,0])"
   ]
  },
  {
   "cell_type": "code",
   "execution_count": 58,
   "id": "6b75f8c3-2f8d-4a33-8b81-3b9644804520",
   "metadata": {},
   "outputs": [
    {
     "data": {
      "text/latex": [
       "$\\displaystyle \\left[\\begin{matrix}x + z\\\\- x + y\\\\2 y + 2 z\\end{matrix}\\right]$"
      ],
      "text/plain": [
       "Matrix([\n",
       "[    x + z],\n",
       "[   -x + y],\n",
       "[2*y + 2*z]])"
      ]
     },
     "execution_count": 58,
     "metadata": {},
     "output_type": "execute_result"
    }
   ],
   "source": [
    "x, y, z = symbols(\"x y z\")\n",
    "X = Matrix([x, y, z]) # Creamos una matriz (vector columna) de símbolos\n",
    "A*X # Actuación del operador matricial "
   ]
  },
  {
   "cell_type": "markdown",
   "id": "8cbbc424-6f78-4566-9ae0-488abcd5696d",
   "metadata": {},
   "source": [
    "Aplicamos el algoritmo de reducción a forma escalonada por filas (Gauss)"
   ]
  },
  {
   "cell_type": "code",
   "execution_count": 8,
   "id": "a6ae4215-e3cb-42eb-9591-e00d5e4a6ff1",
   "metadata": {},
   "outputs": [
    {
     "data": {
      "text/latex": [
       "$\\displaystyle \\left[\\begin{matrix}1 & 0 & 1\\\\0 & 1 & 1\\\\0 & 0 & 0\\end{matrix}\\right]$"
      ],
      "text/plain": [
       "Matrix([\n",
       "[1, 0, 1],\n",
       "[0, 1, 1],\n",
       "[0, 0, 0]])"
      ]
     },
     "execution_count": 8,
     "metadata": {},
     "output_type": "execute_result"
    }
   ],
   "source": [
    "A = Matrix(A)\n",
    "A_red, _ = A.rref()\n",
    "A_red"
   ]
  },
  {
   "cell_type": "markdown",
   "id": "a12a2dae-4136-4c92-b597-a4575b9e5113",
   "metadata": {},
   "source": [
    "Puesto que ```A_red``` tiene 2 filas distintas de cero, el rango de ```A``` es 2. Tiene 2 vectores linealmente independientes."
   ]
  },
  {
   "cell_type": "markdown",
   "id": "77fb398a-70e3-4d59-882d-255542ce4915",
   "metadata": {},
   "source": [
    "# 2.1.2. Sistemas de Generadores, Bases y Bases Ortogonales\n",
    "Ejercicio 2.2 extraer una base"
   ]
  },
  {
   "cell_type": "code",
   "execution_count": 9,
   "id": "02bf397f-3291-41c3-8db4-25064699c299",
   "metadata": {},
   "outputs": [
    {
     "data": {
      "text/latex": [
       "$\\displaystyle \\left[\\begin{matrix}1 & 0 & 0 & \\frac{1}{3}\\\\0 & 1 & 0 & 0\\\\0 & 0 & 1 & \\frac{2}{3}\\end{matrix}\\right]$"
      ],
      "text/plain": [
       "Matrix([\n",
       "[1, 0, 0, 1/3],\n",
       "[0, 1, 0,   0],\n",
       "[0, 0, 1, 2/3]])"
      ]
     },
     "execution_count": 9,
     "metadata": {},
     "output_type": "execute_result"
    }
   ],
   "source": [
    "u1 = [4, -5, 7]\n",
    "u2 = [2, -3, 4]\n",
    "u3 = [1, 1, -2]\n",
    "u4 = [2, -1, 1]\n",
    "\n",
    "M = Matrix([u1, u2, u3, u4]).transpose()\n",
    "A_red = M.rref()[0]\n",
    "A_red "
   ]
  },
  {
   "cell_type": "markdown",
   "id": "261ac452-153a-4ccf-ac6c-18ba7ed5dc63",
   "metadata": {},
   "source": [
    " Coeficientes de la combinación lineal:"
   ]
  },
  {
   "cell_type": "code",
   "execution_count": 10,
   "id": "d95b9792-2411-4248-89ac-fb06ae0a37f9",
   "metadata": {},
   "outputs": [
    {
     "data": {
      "text/latex": [
       "$\\displaystyle \\left[\\begin{matrix}\\frac{1}{3}\\\\0\\\\\\frac{2}{3}\\end{matrix}\\right]$"
      ],
      "text/plain": [
       "Matrix([\n",
       "[1/3],\n",
       "[  0],\n",
       "[2/3]])"
      ]
     },
     "execution_count": 10,
     "metadata": {},
     "output_type": "execute_result"
    }
   ],
   "source": [
    "c = A_red[:,3] # selecciono la columna con los coeficientes de u_4 en la base\n",
    "c"
   ]
  },
  {
   "cell_type": "markdown",
   "id": "d5dfad70-eaef-4464-b511-02bb3cf83c8a",
   "metadata": {},
   "source": [
    "En efecto, se verifica:"
   ]
  },
  {
   "cell_type": "code",
   "execution_count": 11,
   "id": "3475e2df-a1ed-4681-b9ef-71ff601417f9",
   "metadata": {},
   "outputs": [
    {
     "data": {
      "text/latex": [
       "$\\displaystyle \\left[\\begin{matrix}0\\\\0\\\\0\\end{matrix}\\right]$"
      ],
      "text/plain": [
       "Matrix([\n",
       "[0],\n",
       "[0],\n",
       "[0]])"
      ]
     },
     "execution_count": 11,
     "metadata": {},
     "output_type": "execute_result"
    }
   ],
   "source": [
    "res = c[0]*Matrix(u1) + c[1]*Matrix(u2) + c[2]*Matrix(u3) - Matrix(u4) # debe ser cero\n",
    "res"
   ]
  },
  {
   "cell_type": "markdown",
   "id": "de57ee87-56c4-4414-a60e-2bb3754f4ca2",
   "metadata": {},
   "source": [
    "# Ejercicio 2.3"
   ]
  },
  {
   "cell_type": "markdown",
   "id": "4e190cfa-4586-47b1-9a98-aa9294c0f879",
   "metadata": {},
   "source": [
    "Dimension del Subespacio Generado por 2 vectores:"
   ]
  },
  {
   "cell_type": "code",
   "execution_count": 12,
   "id": "29398fea-2244-4891-9b4f-a4402ce5f88f",
   "metadata": {},
   "outputs": [
    {
     "data": {
      "text/plain": [
       "2"
      ]
     },
     "execution_count": 12,
     "metadata": {},
     "output_type": "execute_result"
    }
   ],
   "source": [
    "u_1 = [-1, 1, 0]\n",
    "u_2 = [ 0, 1, 1]\n",
    "A = Matrix([u_1, u_2])\n",
    "rango = A.rank()\n",
    "rango"
   ]
  },
  {
   "cell_type": "markdown",
   "id": "4e8a611f-e54f-43d1-b94f-8f91b32c8882",
   "metadata": {},
   "source": [
    "# 2.1.2 Cambio de base"
   ]
  },
  {
   "cell_type": "markdown",
   "id": "9a7a2a78-6d48-48a4-afbf-e77b00586129",
   "metadata": {},
   "source": [
    "Ejemplo"
   ]
  },
  {
   "cell_type": "code",
   "execution_count": 13,
   "id": "e24690d4-7587-46f5-a728-5544cf71c62f",
   "metadata": {},
   "outputs": [],
   "source": [
    "e1 = [1, 0] # primer vector base canonica Bc\n",
    "e2 = [0, 1] # segundo vector base canonica Bc\n",
    "b11 = [1, 0] # [-1, 1]'%[1, 0]' % primer vector base B1\n",
    "b12 = [1, 1] # [2, 0]'%[1, 1]' % segundo vector base B1\n",
    "b21 = [-1, 1] # [1, 1]'%[-1, 1]' % primer vector base B2\n",
    "b22 = [0, 2] # [0, -1]' %[0, 2]' % segundo vector base B2"
   ]
  },
  {
   "cell_type": "code",
   "execution_count": 14,
   "id": "72b2c663-9b0d-4612-adc9-f4075e3f41bc",
   "metadata": {},
   "outputs": [],
   "source": [
    "B_C = Matrix([e1, e2]).transpose()\n",
    "B_1 = Matrix([b11, b12]).transpose()\n",
    "B_2 = Matrix([b21, b22]).transpose()\n",
    "x = Matrix([2, 2]) # coordenadas en BC"
   ]
  },
  {
   "cell_type": "code",
   "execution_count": 15,
   "id": "60bdeb35-311f-4f4f-8367-7f44a54ee4f6",
   "metadata": {},
   "outputs": [
    {
     "data": {
      "text/latex": [
       "$\\displaystyle \\left[\\begin{matrix}1 & 0\\\\0 & 1\\end{matrix}\\right]$"
      ],
      "text/plain": [
       "Matrix([\n",
       "[1, 0],\n",
       "[0, 1]])"
      ]
     },
     "execution_count": 15,
     "metadata": {},
     "output_type": "execute_result"
    }
   ],
   "source": [
    "B_C"
   ]
  },
  {
   "cell_type": "code",
   "execution_count": 16,
   "id": "fc88a78c-f036-4768-a6d8-a7415e3086d8",
   "metadata": {},
   "outputs": [
    {
     "data": {
      "text/latex": [
       "$\\displaystyle \\left[\\begin{matrix}1 & 1\\\\0 & 1\\end{matrix}\\right]$"
      ],
      "text/plain": [
       "Matrix([\n",
       "[1, 1],\n",
       "[0, 1]])"
      ]
     },
     "execution_count": 16,
     "metadata": {},
     "output_type": "execute_result"
    }
   ],
   "source": [
    "B_1"
   ]
  },
  {
   "cell_type": "code",
   "execution_count": 17,
   "id": "b09e0313-609c-4ad9-ad34-61ff13acb902",
   "metadata": {},
   "outputs": [
    {
     "data": {
      "text/latex": [
       "$\\displaystyle \\left[\\begin{matrix}-1 & 0\\\\1 & 2\\end{matrix}\\right]$"
      ],
      "text/plain": [
       "Matrix([\n",
       "[-1, 0],\n",
       "[ 1, 2]])"
      ]
     },
     "execution_count": 17,
     "metadata": {},
     "output_type": "execute_result"
    }
   ],
   "source": [
    "B_2"
   ]
  },
  {
   "cell_type": "markdown",
   "id": "b126d9c6-0906-486e-8e1d-285aa065aecc",
   "metadata": {},
   "source": [
    "ciclo Bc->B1->B2->Bc"
   ]
  },
  {
   "cell_type": "code",
   "execution_count": 18,
   "id": "e8005b65-eea8-47f9-8eb2-cf011e2cfd11",
   "metadata": {},
   "outputs": [],
   "source": [
    "P_1 = B_1.inv() # matriz de paso Bc -> B1\n",
    "P_2 = B_2.inv()*B_1 # matriz de paso B1 -> B2\n",
    "P_3 = B_2 # matriz de paso B2 -> Bc"
   ]
  },
  {
   "cell_type": "code",
   "execution_count": 19,
   "id": "9a2bb207-66b4-434a-b80c-e0ad9e677901",
   "metadata": {},
   "outputs": [
    {
     "data": {
      "text/latex": [
       "$\\displaystyle \\left[\\begin{matrix}1 & -1\\\\0 & 1\\end{matrix}\\right]$"
      ],
      "text/plain": [
       "Matrix([\n",
       "[1, -1],\n",
       "[0,  1]])"
      ]
     },
     "execution_count": 19,
     "metadata": {},
     "output_type": "execute_result"
    }
   ],
   "source": [
    "P_1"
   ]
  },
  {
   "cell_type": "code",
   "execution_count": 20,
   "id": "7a17e34d-6100-4d6e-abd0-a68e827e5fc8",
   "metadata": {},
   "outputs": [
    {
     "data": {
      "text/latex": [
       "$\\displaystyle \\left[\\begin{matrix}-1 & -1\\\\\\frac{1}{2} & 1\\end{matrix}\\right]$"
      ],
      "text/plain": [
       "Matrix([\n",
       "[ -1, -1],\n",
       "[1/2,  1]])"
      ]
     },
     "execution_count": 20,
     "metadata": {},
     "output_type": "execute_result"
    }
   ],
   "source": [
    "P_2"
   ]
  },
  {
   "cell_type": "code",
   "execution_count": 21,
   "id": "33799a8d-1254-4fc6-9f5d-f9e673bb1190",
   "metadata": {},
   "outputs": [
    {
     "data": {
      "text/latex": [
       "$\\displaystyle \\left[\\begin{matrix}-1 & 0\\\\1 & 2\\end{matrix}\\right]$"
      ],
      "text/plain": [
       "Matrix([\n",
       "[-1, 0],\n",
       "[ 1, 2]])"
      ]
     },
     "execution_count": 21,
     "metadata": {},
     "output_type": "execute_result"
    }
   ],
   "source": [
    "P_3"
   ]
  },
  {
   "cell_type": "markdown",
   "id": "5defea2e-933e-47d1-8293-efc16cc318d9",
   "metadata": {},
   "source": [
    "Coordenadas en $B_1$: $B_1 y_{B1}=x_{BC}$ que es $Py=x$ luego $y=P^-1 x$\n",
    "\n",
    "* Nótese: $y_{B1}$ es el vector $x_{BC}$ visto desde la base $B_1$\n"
   ]
  },
  {
   "cell_type": "code",
   "execution_count": null,
   "id": "db493ea5-80a2-43e7-b291-af347ab566a2",
   "metadata": {},
   "outputs": [],
   "source": [
    "# MATLAB y_B1 = B_1\\x # P=M(B_C,B1) como me escribo los vectores de BV en BC\n",
    "\n",
    "y_B1 = B_1.solve(x) # por defecto usa eliminación Gauss-Jordan\n",
    "y_B1 = B_1.LUsolve(x)\n",
    "y_B1 = B_1.QRsolve(x)\n",
    "y_B1 = B_1.inv()*x\n",
    "y_B1 = B_1.pinv()*x\n",
    "y_B1"
   ]
  },
  {
   "cell_type": "code",
   "execution_count": null,
   "id": "961ef0b3-4ffd-4a72-9f1c-7ceb8e8ed292",
   "metadata": {},
   "outputs": [],
   "source": [
    "#verifica\n",
    "residuo=(B_1*y_B1-x).norm()\n",
    "residuo"
   ]
  },
  {
   "cell_type": "markdown",
   "id": "05f58470-68dd-45f7-956d-59c7d0085379",
   "metadata": {},
   "source": [
    "Coordenadas en B_2"
   ]
  },
  {
   "cell_type": "code",
   "execution_count": null,
   "id": "a7532484-4a3d-448d-938d-55b786955cd5",
   "metadata": {},
   "outputs": [],
   "source": [
    "y_B2 = B_2.solve(x)\n",
    "# verifica\n",
    "residuo = (B_2*y_B2-x).norm()\n",
    "residuo"
   ]
  },
  {
   "cell_type": "markdown",
   "id": "294c52b8-4bce-41ca-8c3c-bd6e39798b23",
   "metadata": {},
   "source": [
    "Matriz de paso B1 a B2"
   ]
  },
  {
   "cell_type": "code",
   "execution_count": null,
   "id": "c7259dda-555a-4645-9f77-75718ccab276",
   "metadata": {},
   "outputs": [],
   "source": [
    "# P=M(B1,B2) como me escribo los vectores de B1 en B2\n",
    "p1 = B_2.solve(Matrix(b11))\n",
    "p2 = B_2.solve(Matrix(b12))\n",
    "P = p1.row_join(p2) # P = [p1, p2]\n",
    "P"
   ]
  },
  {
   "cell_type": "code",
   "execution_count": null,
   "id": "c79b697c-0cb2-4d91-9109-1925eaecc126",
   "metadata": {},
   "outputs": [],
   "source": [
    "Y = P*y_B2 # pasa (proyecta) las coordenadas de B1 a B2\n",
    "Y"
   ]
  },
  {
   "cell_type": "markdown",
   "id": "742968c1-326c-4179-a7bb-b6cb3ee13d16",
   "metadata": {},
   "source": [
    "Resolucion directa "
   ]
  },
  {
   "cell_type": "code",
   "execution_count": 27,
   "id": "c0613109-2a6d-46ba-b54c-6036440161b0",
   "metadata": {},
   "outputs": [
    {
     "data": {
      "text/latex": [
       "$\\displaystyle \\left[\\begin{matrix}-1 & -1\\\\\\frac{1}{2} & 1\\end{matrix}\\right]$"
      ],
      "text/plain": [
       "Matrix([\n",
       "[ -1, -1],\n",
       "[1/2,  1]])"
      ]
     },
     "execution_count": 27,
     "metadata": {},
     "output_type": "execute_result"
    }
   ],
   "source": [
    "PP = B_2.solve(B_1 )\n",
    "PP"
   ]
  },
  {
   "cell_type": "markdown",
   "id": "3f2f9018-e97b-43eb-b747-3424d68b2d20",
   "metadata": {},
   "source": [
    "# Ejercicio 2.5"
   ]
  },
  {
   "cell_type": "code",
   "execution_count": 28,
   "id": "02f05edc-15e7-4fc3-b1f6-13b063021124",
   "metadata": {},
   "outputs": [],
   "source": [
    "v1 = [1, 0] # primer vector base BV\n",
    "v2 = [1, 1] # segundo vector base BV\n",
    "n1 = [-1, 1] # primer vector base BN\n",
    "n2 = [0, 2] # segundo vector base BN\n",
    "B_V = Matrix([v1, v2]).transpose() # matriz de paso BC a BV\n",
    "B_N = Matrix([n1, n2]).transpose() # matriz de paso BC a BN\n",
    "x = Matrix([3, 7]) # coordenadas en BC"
   ]
  },
  {
   "cell_type": "markdown",
   "id": "70182f6e-a0e5-4dc4-ba74-26ce8caf2d7f",
   "metadata": {},
   "source": [
    "Coordenadas en $B_V$: $B_V y_{B_V}=x_{BC}$ que es $Py=x$ luego $y=P^{-1}x$"
   ]
  },
  {
   "cell_type": "code",
   "execution_count": 29,
   "id": "a245e5c1-5f5b-46ef-98c5-054b408e9649",
   "metadata": {},
   "outputs": [
    {
     "data": {
      "text/latex": [
       "$\\displaystyle \\left[\\begin{matrix}-4\\\\7\\end{matrix}\\right]$"
      ],
      "text/plain": [
       "Matrix([\n",
       "[-4],\n",
       "[ 7]])"
      ]
     },
     "execution_count": 29,
     "metadata": {},
     "output_type": "execute_result"
    }
   ],
   "source": [
    "y_BV = B_V.solve(x) # P=M(B_C,BV) como me escribo los vectores de BV en BC\n",
    "y_BV"
   ]
  },
  {
   "cell_type": "markdown",
   "id": "6a85c862-f511-4cea-a885-283655ddc5e1",
   "metadata": {},
   "source": [
    "Coordenadas en $B_N$"
   ]
  },
  {
   "cell_type": "code",
   "execution_count": 30,
   "id": "fc741cda-e369-4910-918b-6da44bcaa29b",
   "metadata": {},
   "outputs": [
    {
     "data": {
      "text/latex": [
       "$\\displaystyle \\left[\\begin{matrix}-3\\\\5\\end{matrix}\\right]$"
      ],
      "text/plain": [
       "Matrix([\n",
       "[-3],\n",
       "[ 5]])"
      ]
     },
     "execution_count": 30,
     "metadata": {},
     "output_type": "execute_result"
    }
   ],
   "source": [
    "y_BN = B_N.solve(x)\n",
    "y_BN"
   ]
  },
  {
   "cell_type": "markdown",
   "id": "03c319eb-f0a8-45f3-89a7-bf28825e77ba",
   "metadata": {},
   "source": [
    "Matriz de paso BV a BN\n",
    "* $P=M(BV,BN)$ como me escribo los vectores de BN en BV"
   ]
  },
  {
   "cell_type": "code",
   "execution_count": 31,
   "id": "42f25bd2-711c-4d6c-98fe-bc639be22799",
   "metadata": {},
   "outputs": [
    {
     "data": {
      "text/latex": [
       "$\\displaystyle \\left[\\begin{matrix}-3\\\\5\\end{matrix}\\right]$"
      ],
      "text/plain": [
       "Matrix([\n",
       "[-3],\n",
       "[ 5]])"
      ]
     },
     "execution_count": 31,
     "metadata": {},
     "output_type": "execute_result"
    }
   ],
   "source": [
    "p1 = B_N.solve(Matrix(v1))\n",
    "p2 = B_N.solve(Matrix(v2))\n",
    "P = p1.row_join(p2) # P = [p1, p2]\n",
    "Y = P*y_BV # pasa (proyecta) las coordenadas de BV a BN\n",
    "Y"
   ]
  },
  {
   "cell_type": "markdown",
   "id": "ed086c52-319c-471e-8c24-814ef2b83478",
   "metadata": {},
   "source": [
    "Resolución directa"
   ]
  },
  {
   "cell_type": "code",
   "execution_count": 32,
   "id": "f0a0e74e-7170-4dc7-a8b5-732b4535f572",
   "metadata": {},
   "outputs": [
    {
     "data": {
      "text/latex": [
       "$\\displaystyle \\left[\\begin{matrix}-1 & -1\\\\\\frac{1}{2} & 1\\end{matrix}\\right]$"
      ],
      "text/plain": [
       "Matrix([\n",
       "[ -1, -1],\n",
       "[1/2,  1]])"
      ]
     },
     "execution_count": 32,
     "metadata": {},
     "output_type": "execute_result"
    }
   ],
   "source": [
    "PP = B_N.solve(B_V)\n",
    "PP"
   ]
  },
  {
   "cell_type": "markdown",
   "id": "3b490043-e35a-4259-a4e5-162df271e86d",
   "metadata": {},
   "source": [
    "# Ejercicio"
   ]
  },
  {
   "cell_type": "code",
   "execution_count": 33,
   "id": "652986eb-cf39-4741-a830-f4c84798f90c",
   "metadata": {},
   "outputs": [
    {
     "data": {
      "text/latex": [
       "$\\displaystyle 0$"
      ],
      "text/plain": [
       "0"
      ]
     },
     "execution_count": 33,
     "metadata": {},
     "output_type": "execute_result"
    }
   ],
   "source": [
    "n = 2\n",
    "A = np.random.randn(n,n) # genero la matriz\n",
    "B = (1/2)*(A+A.transpose()) # la simetrizo\n",
    "eigvals, V = np.linalg.eig(B) # clasifico la matriz\n",
    "det = np.linalg.det(B) # compruebo que no es singular luego es una base\n",
    "x = np.random.randn(n,1) # coordenadas en el sistema canonico\n",
    "y = Matrix(V).LUsolve(Matrix(x)) #coordenadas en el nuevo sistema.\n",
    "res = V*y-x\n",
    "norm_res = res.norm()\n",
    "norm_res"
   ]
  },
  {
   "cell_type": "code",
   "execution_count": 34,
   "id": "26a568e1-3cbb-4d2c-91ce-9322c1d94df8",
   "metadata": {},
   "outputs": [
    {
     "data": {
      "text/latex": [
       "$\\displaystyle \\left[\\begin{matrix}1.7266257860755\\\\-1.08761383170222\\end{matrix}\\right]$"
      ],
      "text/plain": [
       "Matrix([\n",
       "[  1.7266257860755],\n",
       "[-1.08761383170222]])"
      ]
     },
     "execution_count": 34,
     "metadata": {},
     "output_type": "execute_result"
    }
   ],
   "source": [
    "Matrix(eigvals)"
   ]
  },
  {
   "cell_type": "code",
   "execution_count": 35,
   "id": "dec9c6dd-fd05-4185-878a-60736118206a",
   "metadata": {},
   "outputs": [
    {
     "data": {
      "text/latex": [
       "$\\displaystyle \\left[\\begin{matrix}0.998988276446011 & 0.044971363370792\\\\-0.044971363370792 & 0.998988276446011\\end{matrix}\\right]$"
      ],
      "text/plain": [
       "Matrix([\n",
       "[ 0.998988276446011, 0.044971363370792],\n",
       "[-0.044971363370792, 0.998988276446011]])"
      ]
     },
     "execution_count": 35,
     "metadata": {},
     "output_type": "execute_result"
    }
   ],
   "source": [
    "Matrix(V)"
   ]
  },
  {
   "cell_type": "markdown",
   "id": "00cacf2d-f264-4fff-b7c6-fba70d115b0f",
   "metadata": {},
   "source": [
    "# 2.1.3. Espacio Imagen y Núcleo "
   ]
  },
  {
   "cell_type": "code",
   "execution_count": 36,
   "id": "96e1720d-ad83-4a7e-ba30-58ec656b18cc",
   "metadata": {},
   "outputs": [
    {
     "data": {
      "text/latex": [
       "$\\displaystyle \\left[\\begin{matrix}1 & 2 & 3\\\\1 & 2 & 3\\\\1 & 2 & 3\\end{matrix}\\right]$"
      ],
      "text/plain": [
       "Matrix([\n",
       "[1, 2, 3],\n",
       "[1, 2, 3],\n",
       "[1, 2, 3]])"
      ]
     },
     "execution_count": 36,
     "metadata": {},
     "output_type": "execute_result"
    }
   ],
   "source": [
    "# Calcular base ortonormal\n",
    "A = Matrix([[1, 2, 3],\n",
    "            [1, 2, 3],\n",
    "            [1, 2, 3]])\n",
    "A"
   ]
  },
  {
   "cell_type": "code",
   "execution_count": 37,
   "id": "330b4c3e-36f3-4b34-aaf9-0bcf6e4989d9",
   "metadata": {},
   "outputs": [
    {
     "data": {
      "text/latex": [
       "$\\displaystyle \\left[\\begin{matrix}-2 & -3\\\\1 & 0\\\\0 & 1\\end{matrix}\\right]$"
      ],
      "text/plain": [
       "Matrix([\n",
       "[-2, -3],\n",
       "[ 1,  0],\n",
       "[ 0,  1]])"
      ]
     },
     "execution_count": 37,
     "metadata": {},
     "output_type": "execute_result"
    }
   ],
   "source": [
    "Z = A.nullspace()\n",
    "Z_mat = Z[0].row_join(Z[1])\n",
    "Z_mat"
   ]
  },
  {
   "cell_type": "markdown",
   "id": "8065a40b-1a14-48aa-b4de-3339b0f809cf",
   "metadata": {},
   "source": [
    "Compruebo que los vectores de Z estan en el kernel "
   ]
  },
  {
   "cell_type": "code",
   "execution_count": 38,
   "id": "e7fb449b-d0ab-4436-8c09-0e00300b6916",
   "metadata": {},
   "outputs": [
    {
     "data": {
      "text/latex": [
       "$\\displaystyle \\left[\\begin{matrix}0 & 0\\\\0 & 0\\\\0 & 0\\end{matrix}\\right]$"
      ],
      "text/plain": [
       "Matrix([\n",
       "[0, 0],\n",
       "[0, 0],\n",
       "[0, 0]])"
      ]
     },
     "execution_count": 38,
     "metadata": {},
     "output_type": "execute_result"
    }
   ],
   "source": [
    "A*Z_mat"
   ]
  },
  {
   "cell_type": "markdown",
   "id": "57aa3806-b5a4-4a92-98a6-8605993fa089",
   "metadata": {},
   "source": [
    "Base ortonormal"
   ]
  },
  {
   "cell_type": "code",
   "execution_count": 39,
   "id": "eb94c5df-9cc3-4f2d-937e-9e57b7123437",
   "metadata": {},
   "outputs": [
    {
     "data": {
      "text/latex": [
       "$\\displaystyle \\left[\\begin{matrix}- \\frac{2 \\sqrt{5}}{5} & - \\frac{3 \\sqrt{70}}{70}\\\\\\frac{\\sqrt{5}}{5} & - \\frac{3 \\sqrt{70}}{35}\\\\0 & \\frac{\\sqrt{70}}{14}\\end{matrix}\\right]$"
      ],
      "text/plain": [
       "Matrix([\n",
       "[-2*sqrt(5)/5, -3*sqrt(70)/70],\n",
       "[   sqrt(5)/5, -3*sqrt(70)/35],\n",
       "[           0,    sqrt(70)/14]])"
      ]
     },
     "execution_count": 39,
     "metadata": {},
     "output_type": "execute_result"
    }
   ],
   "source": [
    "Z_orthonormal = GramSchmidt(Z, orthonormal=True)\n",
    "Z_orthonormal_mat = Z_orthonormal[0].row_join(Z_orthonormal[1])\n",
    "Z_orthonormal_mat"
   ]
  },
  {
   "cell_type": "markdown",
   "id": "19c6c585-49a2-4451-b579-f7db718cf13e",
   "metadata": {},
   "source": [
    "Otro ejemplo"
   ]
  },
  {
   "cell_type": "code",
   "execution_count": 40,
   "id": "2bfb855d-7f53-4467-883f-c8e6e407f9d5",
   "metadata": {},
   "outputs": [
    {
     "name": "stdout",
     "output_type": "stream",
     "text": [
      "Rango:1\n"
     ]
    },
    {
     "data": {
      "text/latex": [
       "$\\displaystyle \\left[\\begin{matrix}2\\\\1\\\\0\\end{matrix}\\right]$"
      ],
      "text/plain": [
       "Matrix([\n",
       "[2],\n",
       "[1],\n",
       "[0]])"
      ]
     },
     "metadata": {},
     "output_type": "display_data"
    },
    {
     "data": {
      "text/latex": [
       "$\\displaystyle \\left[\\begin{matrix}0\\\\0\\\\1\\end{matrix}\\right]$"
      ],
      "text/plain": [
       "Matrix([\n",
       "[0],\n",
       "[0],\n",
       "[1]])"
      ]
     },
     "metadata": {},
     "output_type": "display_data"
    },
    {
     "data": {
      "text/latex": [
       "$\\displaystyle \\left[\\begin{matrix}\\frac{2 \\sqrt{5}}{5} & 0\\\\\\frac{\\sqrt{5}}{5} & 0\\\\0 & 1\\end{matrix}\\right]$"
      ],
      "text/plain": [
       "Matrix([\n",
       "[2*sqrt(5)/5, 0],\n",
       "[  sqrt(5)/5, 0],\n",
       "[          0, 1]])"
      ]
     },
     "execution_count": 40,
     "metadata": {},
     "output_type": "execute_result"
    }
   ],
   "source": [
    "A = Matrix([[1, -2, 0],\n",
    "            [0, 0, 0],\n",
    "            [2, -4, 0]])\n",
    "\n",
    "rango = A.rank()\n",
    "kernel = A.nullspace()\n",
    "\n",
    "print('Rango:'+str(rango))\n",
    "# Mostramos todos los vectores del núcleo (kernel es una lista de ellos dados por A.nullspace())\n",
    "for i in kernel:\n",
    "    display(i)\n",
    "    \n",
    "kernel_mat = kernel[0].row_join(kernel[1])\n",
    "kernel_ortonormal = GramSchmidt(kernel, orthonormal=True)\n",
    "kernel_ortonormal_mat = kernel_ortonormal[0].row_join(kernel_ortonormal[1])\n",
    "\n",
    "kernel_ortonormal_mat\n"
   ]
  },
  {
   "cell_type": "code",
   "execution_count": 41,
   "id": "4980d62c-1c4f-41b6-bc72-97ea9892d958",
   "metadata": {},
   "outputs": [
    {
     "data": {
      "text/latex": [
       "$\\displaystyle \\left[\\begin{matrix}1 & -2 & 0\\\\0 & 0 & 0\\\\0 & 0 & 0\\end{matrix}\\right]$"
      ],
      "text/plain": [
       "Matrix([\n",
       "[1, -2, 0],\n",
       "[0,  0, 0],\n",
       "[0,  0, 0]])"
      ]
     },
     "execution_count": 41,
     "metadata": {},
     "output_type": "execute_result"
    }
   ],
   "source": [
    "A.rref()[0]"
   ]
  },
  {
   "cell_type": "code",
   "execution_count": 42,
   "id": "72996340-87cc-4442-8104-f1155f1e7816",
   "metadata": {},
   "outputs": [
    {
     "data": {
      "text/latex": [
       "$\\displaystyle \\left[\\begin{matrix}\\frac{\\sqrt{5}}{5}\\\\0\\\\\\frac{2 \\sqrt{5}}{5}\\end{matrix}\\right]$"
      ],
      "text/plain": [
       "Matrix([\n",
       "[  sqrt(5)/5],\n",
       "[          0],\n",
       "[2*sqrt(5)/5]])"
      ]
     },
     "execution_count": 42,
     "metadata": {},
     "output_type": "execute_result"
    }
   ],
   "source": [
    "GramSchmidt([A[:,0]], orthonormal=True)[0]"
   ]
  },
  {
   "cell_type": "markdown",
   "id": "55d2d079-2358-45bd-a8f3-97969b8a2064",
   "metadata": {},
   "source": [
    "Otro ejemplo"
   ]
  },
  {
   "cell_type": "code",
   "execution_count": 43,
   "id": "abe3204e-ab13-4309-b9ed-02b3c817eb61",
   "metadata": {},
   "outputs": [
    {
     "name": "stdout",
     "output_type": "stream",
     "text": [
      "Rango:2\n"
     ]
    },
    {
     "data": {
      "text/latex": [
       "$\\displaystyle \\left[\\begin{matrix}0\\\\0\\\\1\\end{matrix}\\right]$"
      ],
      "text/plain": [
       "Matrix([\n",
       "[0],\n",
       "[0],\n",
       "[1]])"
      ]
     },
     "metadata": {},
     "output_type": "display_data"
    }
   ],
   "source": [
    "A = Matrix([[1, 2, 0],\n",
    "            [0, 0, 0],\n",
    "            [2, -4, 0]])\n",
    "\n",
    "rango = A.rank()\n",
    "kernel = A.nullspace()\n",
    "\n",
    "print('Rango:'+str(rango))\n",
    "# Mostramos todos los vectores del núcleo (kernel es una lista de ellos dados por A.nullspace())\n",
    "for i in kernel:\n",
    "    display(i)\n"
   ]
  },
  {
   "cell_type": "markdown",
   "id": "14a943e1-c1ae-4fc9-a120-36296da978d9",
   "metadata": {},
   "source": [
    "En este caso tenemos $A^{m x n}$ donde $m = n = 3$.\n",
    "\n",
    "El rango de $A$ es 2, que corresponde a la dimensión del espacio imagen de la matriz: $dim(\\mathcal{R}(A))=2$\n",
    "\n",
    "El núcleo de $A$ solo tiene 1 vector: $\\left[\\begin{matrix}0\\\\0\\\\1\\end{matrix}\\right]$, por tanto la dimensión del núcleo $dim(\\mathcal{N}(A))=1$\n",
    "\n",
    "En efecto, esto cumple la condición del teorema de la dimensión:\n",
    "\n",
    "$\\underbrace{n}_{3} = \\underbrace{dim(\\mathcal{R}(A))}_{2} + \\underbrace{dim(\\mathcal{N}(A))}_{1}$"
   ]
  },
  {
   "cell_type": "markdown",
   "id": "3c6e3751-e276-4992-b3d1-7b791fbbad72",
   "metadata": {},
   "source": [
    "# 2.1.4 Normas"
   ]
  },
  {
   "cell_type": "markdown",
   "id": "c6f964ed-8e23-4c7b-b5f3-cf2278efc08d",
   "metadata": {},
   "source": [
    "## Normas Vectoriales"
   ]
  },
  {
   "cell_type": "code",
   "execution_count": 44,
   "id": "3f419aa9-1f7d-43cf-beb5-2629320427f3",
   "metadata": {},
   "outputs": [
    {
     "name": "stdout",
     "output_type": "stream",
     "text": [
      "Norma 2:4.58257569495584\n",
      "Norma 1:7.0\n",
      "Norma infinito:4.0\n"
     ]
    }
   ],
   "source": [
    "u = np.array([-1, 2, 0, -4])\n",
    "norma2 = np.linalg.norm(u, ord=2)\n",
    "norma1 = np.linalg.norm(u, ord=1)\n",
    "norma_inf = np.linalg.norm(u, ord=np.inf)\n",
    "\n",
    "print('Norma 2:' + str(norma2))\n",
    "print('Norma 1:' + str(norma1))\n",
    "print('Norma infinito:' + str(norma_inf))"
   ]
  },
  {
   "cell_type": "markdown",
   "id": "a2a94c91-445f-4eb6-978e-5f08bcd346ec",
   "metadata": {},
   "source": [
    "## Normas Matriciales"
   ]
  },
  {
   "cell_type": "code",
   "execution_count": 45,
   "id": "f18fb196-21c3-4189-ab67-9748071c3239",
   "metadata": {},
   "outputs": [
    {
     "name": "stdout",
     "output_type": "stream",
     "text": [
      "Norma 2:4.844156902881103\n",
      "Norma 1:5.0\n",
      "Norma infinito:6.0\n",
      "Norma frobenius:5.0\n",
      "Norma 2 de A vectorizada:5.0\n"
     ]
    }
   ],
   "source": [
    "A= np.array([[-1, 2, 0],[-4, 2, 0]])\n",
    "\n",
    "norma2 = np.linalg.norm(A, ord=2)\n",
    "norma1 = np.linalg.norm(A, ord=1)\n",
    "norma_inf = np.linalg.norm(A, ord=np.inf)\n",
    "norma_fro = np.linalg.norm(A, ord='fro')\n",
    "\n",
    "norma2_A_vectorizada = np.linalg.norm(A.flatten(), ord=2)\n",
    "\n",
    "print('Norma 2:' + str(norma2))\n",
    "print('Norma 1:' + str(norma1))\n",
    "print('Norma infinito:' + str(norma_inf))\n",
    "print('Norma frobenius:' + str(norma_fro))\n",
    "print('Norma 2 de A vectorizada:' + str(norma2_A_vectorizada))"
   ]
  },
  {
   "cell_type": "markdown",
   "id": "c2488381-da3a-4338-a4d8-18e594d2fbbd",
   "metadata": {},
   "source": [
    "# Ejercicio 1.10 calculo de la energia"
   ]
  },
  {
   "cell_type": "code",
   "execution_count": 46,
   "id": "6c79787b-96e2-4c9d-9e34-bfceca643c04",
   "metadata": {},
   "outputs": [
    {
     "data": {
      "image/png": "[encoded data removed]",
      "text/plain": [
       "<Figure size 432x288 with 1 Axes>"
      ]
     },
     "metadata": {
      "needs_background": "light"
     },
     "output_type": "display_data"
    },
    {
     "name": "stdout",
     "output_type": "stream",
     "text": [
      "Norma 1 Imagen: 871.19\n",
      "Norma 2 Imagen: 1040.17\n",
      "Norma Inf Imagen: 1894.13\n",
      "Norma Frobenius Imagen: 1048.64\n",
      "\n",
      "Energía 1 Imagen: 871.19\n",
      "Energía 2 Imagen: 540977.95\n",
      "Energía Inf Imagen: 1894.13\n",
      "Energía Frobenius Imagen: 1048.64\n"
     ]
    }
   ],
   "source": [
    "from PIL import Image\n",
    "\n",
    "path_to_image = './Images/cadiz2015.jpg'\n",
    "im = Image.open(path_to_image)\n",
    "im_bw = im.convert('L') # https://pillow.readthedocs.io/en/stable/reference/Image.html#PIL.Image.Image.convert\n",
    "plt.imshow(im_bw, cmap=\"gray\")\n",
    "plt.axis('off')\n",
    "plt.show()\n",
    "\n",
    "I = np.asarray(im_bw)/255.0 # pasamos a numpy.array y al rango [0, 1]\n",
    "\n",
    "norma_imagen_1 = np.linalg.norm(I, ord=1)\n",
    "norma_imagen_2 = np.linalg.norm(I, ord=2)\n",
    "norma_imagen_inf = np.linalg.norm(I, ord=np.inf)\n",
    "norma_imagen_fro = np.linalg.norm(I, ord='fro')\n",
    "\n",
    "print(\"Norma 1 Imagen: {:.02f}\".format(norma_imagen_1))\n",
    "print(\"Norma 2 Imagen: {:.02f}\".format(norma_imagen_2))\n",
    "print(\"Norma Inf Imagen: {:.02f}\".format(norma_imagen_inf))\n",
    "print(\"Norma Frobenius Imagen: {:.02f}\".format(norma_imagen_fro))\n",
    "\n",
    "\n",
    "energia_imagen_1 = np.linalg.norm(I, ord=1) #%sum(I(:).^2) %sqrt(sum(I(:).^2)) CORREGIR\n",
    "energia_imagen_2 = (1/2)*np.linalg.norm(I, ord=2)**2\n",
    "energia_imagen_inf = np.linalg.norm(I, np.inf) \n",
    "energia_imagen_fro = np.linalg.norm(I,'fro') \n",
    "print('')\n",
    "print(\"Energía 1 Imagen: {:.02f}\".format(energia_imagen_1))\n",
    "print(\"Energía 2 Imagen: {:.02f}\".format(energia_imagen_2))\n",
    "print(\"Energía Inf Imagen: {:.02f}\".format(energia_imagen_inf))\n",
    "print(\"Energía Frobenius Imagen: {:.02f}\".format(energia_imagen_fro))"
   ]
  }
 ],
 "metadata": {
  "kernelspec": {
   "display_name": "Python 3 (ipykernel)",
   "language": "python",
   "name": "python3"
  },
  "language_info": {
   "codemirror_mode": {
    "name": "ipython",
    "version": 3
   },
   "file_extension": ".py",
   "mimetype": "text/x-python",
   "name": "python",
   "nbconvert_exporter": "python",
   "pygments_lexer": "ipython3",
   "version": "3.10.12"
  }
 },
 "nbformat": 4,
 "nbformat_minor": 5
}
