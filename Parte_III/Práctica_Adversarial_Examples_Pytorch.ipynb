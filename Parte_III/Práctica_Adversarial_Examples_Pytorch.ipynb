{
  "cells": [
    {
      "cell_type": "markdown",
      "metadata": {
        "id": "gedEgVj4u6v0"
      },
      "source": [
        "# **<center>Práctica I: Adversarial Examples</center>**\n",
        "\n",
        "Los ejemplos adversarios (Adversarial Examples - AE) en redes neuronales han puesto recientemente en duda la robustez de dichas funciones, al ser capaces de cambiar la predicción de una red sin más que perturbar mínimamente los datos de entrada.\n",
        "\n",
        "\n",
        "El modelo de ataque se describe como la adición de una pertubación:\n",
        "\n",
        "\\begin{align}\n",
        "    % \\delta^* = \\mbox{arg}\\max_{\\delta \\in \\Delta} \\mathcal{L}(y,x+\\delta), ~\\text{where}~\\Delta = \\lbrace \\delta: ||\\delta||_{\\infty} \\leq \\epsilon \\rbrace\n",
        "    x_{adv} &= x + \\delta     % \\text{ donde } \\delta =  \\epsilon \\cdot sign \\left( \\frac{\\partial \\mathcal{L}(y_{target},\\hat{y})}{\\partial x} \\right).\n",
        "\\end{align}\n",
        "Es decir, buscamos la perturbación $\\delta$ de tal forma que la predicción hecha por la red sea distinta a la original:\n",
        "$$\n",
        "\\hat{y} = f(x, \\theta) \\neq \\hat{y}_{adv} = f(x_{adv}, \\theta)\n",
        "$$  \n",
        "\n",
        "En este ejercicio se pide construir un ejemplo adversario para una red convolucional. El modelo de ataque a usar se describe a continuación.\n",
        "\n",
        "### **Non-Targeted Attack:**\n",
        "$$\n",
        " \\begin{align}\n",
        "    % \\delta^* = \\mbox{arg}\\max_{\\delta \\in \\Delta} \\mathcal{L}(y,x+\\delta), ~\\text{where}~\\Delta = \\lbrace \\delta: ||\\delta||_{\\infty} \\leq \\epsilon \\rbrace\n",
        "    x_{adv} &= x +  \\epsilon \\cdot sign \\left( \\frac{\\partial \\mathcal{L}(y,\\hat{y})}{\\partial x} \\right).\n",
        "\\end{align}\n",
        "$$\n",
        "\n",
        "La perturbación $\\delta$ se produce en la dirección de ascenso de la función de pérdidas. Es decir, buscamos que la pérdida (error) asociada al ejemplo $x$ aumente.\n",
        "\n",
        "### **Targeted Attack:**\n",
        "\n",
        "\n",
        "\\begin{align}\n",
        "    % \\delta^* = \\mbox{arg}\\max_{\\delta \\in \\Delta} \\mathcal{L}(y,x+\\delta), ~\\text{where}~\\Delta = \\lbrace \\delta: ||\\delta||_{\\infty} \\leq \\epsilon \\rbrace\n",
        "    x_{adv} &= x -  \\epsilon \\cdot sign \\left( \\frac{\\partial \\mathcal{L}(y_{target},\\hat{y})}{\\partial x} \\right).\n",
        "\\end{align}\n",
        "En este caso buscamos la perturbación $\\delta$ para una etiqueta diferente de la original. Este ataque es conocido como $\\textit{targeted attack}$, y no solo permite engañar a la red sino también forzar su salida en un sentido concreto."
      ]
    },
    {
      "cell_type": "code",
      "source": [
        "!pip install ml_collections"
      ],
      "metadata": {
        "id": "r49kEsEE8Tld"
      },
      "execution_count": null,
      "outputs": []
    },
    {
      "cell_type": "code",
      "execution_count": null,
      "metadata": {
        "id": "sJJYKAcBgXxd"
      },
      "outputs": [],
      "source": [
        "import torch\n",
        "import torch.nn as nn\n",
        "import torch.nn.functional as F\n",
        "import torch.optim as optim\n",
        "from torchvision import datasets, transforms\n",
        "\n",
        "import matplotlib.pyplot as plt\n",
        "import warnings\n",
        "warnings.filterwarnings('ignore')\n",
        "import numpy as np"
      ]
    },
    {
      "cell_type": "code",
      "source": [
        "class Net(nn.Module):\n",
        "    def __init__(self):\n",
        "        super(Net, self).__init__()\n",
        "        # Completar\n",
        "\n",
        "\n",
        "    def forward(self, x):\n",
        "        # Completar\n",
        "\n",
        "        output = F.log_softmax(x, dim=1)\n",
        "        return output\n",
        "\n",
        "\n",
        "def train(args, model, device, train_loader, optimizer, epoch):\n",
        "    model.train()\n",
        "    for batch_idx, (data, target) in enumerate(train_loader):\n",
        "        data, target = data.to(device), target.to(device)\n",
        "        optimizer.zero_grad()\n",
        "        output = model(data)\n",
        "        loss = F.nll_loss(output, target)\n",
        "        loss.backward()\n",
        "        optimizer.step()\n",
        "        if batch_idx % args.log_interval == 0:\n",
        "            print('Train Epoch: {} [{}/{} ({:.0f}%)]\\tLoss: {:.6f}'.format(\n",
        "                epoch, batch_idx * len(data), len(train_loader.dataset),\n",
        "                100. * batch_idx / len(train_loader), loss.item()))\n",
        "\n",
        "\n",
        "def test(model, device, test_loader):\n",
        "    model.eval()\n",
        "    test_loss = 0\n",
        "    correct = 0\n",
        "    with torch.no_grad():\n",
        "        for data, target in test_loader:\n",
        "            data, target = data.to(device), target.to(device)\n",
        "            output = model(data)\n",
        "            test_loss += F.nll_loss(output, target, reduction='sum').item()\n",
        "            pred = output.argmax(dim=1, keepdim=True)\n",
        "            correct += pred.eq(target.view_as(pred)).sum().item()\n",
        "\n",
        "    test_loss /= len(test_loader.dataset)\n",
        "\n",
        "    print('\\nTest set: Average loss: {:.4f}, Accuracy: {}/{} ({:.0f}%)\\n'.format(\n",
        "        test_loss, correct, len(test_loader.dataset),\n",
        "        100. * correct / len(test_loader.dataset)))\n",
        "\n",
        "\n"
      ],
      "metadata": {
        "id": "gFNxUS51QY3z"
      },
      "execution_count": null,
      "outputs": []
    },
    {
      "cell_type": "markdown",
      "metadata": {
        "id": "Re0vrHocsANF"
      },
      "source": [
        "**Entrenamos una red**"
      ]
    },
    {
      "cell_type": "code",
      "source": [
        "from ml_collections import ConfigDict\n",
        "\n",
        "device = 'cuda'\n",
        "\n",
        "args = ConfigDict()\n",
        "args.batch_size = 64\n",
        "args.test_batch_size = 1024\n",
        "args.epochs = 15\n",
        "args.log_interval = 10\n",
        "args.lr = 1e-3\n"
      ],
      "metadata": {
        "id": "vbfDhmhM8PfU"
      },
      "execution_count": null,
      "outputs": []
    },
    {
      "cell_type": "code",
      "execution_count": null,
      "metadata": {
        "id": "RIseknxcgVd7"
      },
      "outputs": [],
      "source": [
        "transform=transforms.Compose([\n",
        "    transforms.ToTensor(),\n",
        "    ])\n",
        "train_ds = datasets.CIFAR10('../data', train=True, download=True,\n",
        "                    transform=transform)\n",
        "test_ds = datasets.CIFAR10('../data', train=False,\n",
        "                    transform=transform)\n",
        "train_loader = torch.utils.data.DataLoader(train_ds, batch_size=args.batch_size)\n",
        "test_loader = torch.utils.data.DataLoader(test_ds, batch_size=args.test_batch_size)\n",
        "\n",
        "model = Net().to(device)\n",
        "\n",
        "optimizer = optim.Adam(model.parameters(), lr=args.lr)\n",
        "\n",
        "for epoch in range(1, args.epochs + 1):\n",
        "    train(args, model, device, train_loader, optimizer, epoch)\n",
        "    test(model, device, test_loader)\n",
        "\n"
      ]
    },
    {
      "cell_type": "markdown",
      "metadata": {
        "id": "gZjro5vmsOe8"
      },
      "source": [
        "**Seleccionamos una imagen del conjunto de test**\n"
      ]
    },
    {
      "cell_type": "code",
      "execution_count": null,
      "metadata": {
        "colab": {
          "base_uri": "https://localhost:8080/",
          "height": 72
        },
        "id": "AIB6iBL3hwOV",
        "outputId": "b0113860-6ef8-43cc-8b58-cddf0ca02b86"
      },
      "outputs": [
        {
          "output_type": "stream",
          "name": "stdout",
          "text": [
            "['airplane', 'automobile', 'bird', 'cat', 'deer', 'dog', 'frog', 'horse', 'ship', 'truck']\n"
          ]
        },
        {
          "output_type": "display_data",
          "data": {
            "text/plain": [
              "<Figure size 432x288 with 1 Axes>"
            ],
            "image/png": "[encoded data removed]"
          },
          "metadata": {
            "needs_background": "light"
          }
        }
      ],
      "source": [
        "idx = 1\n",
        "x = test_ds.data[idx,...]\n",
        "y = test_ds.targets[idx]\n",
        "plt.imshow(x)\n",
        "plt.title('Label: '+str(y))\n",
        "print(test_ds.classes)"
      ]
    },
    {
      "cell_type": "markdown",
      "metadata": {
        "id": "k2vQPtpUuwK6"
      },
      "source": [
        "**Non-Targeted Attack**"
      ]
    },
    {
      "cell_type": "code",
      "source": [
        "ep = 8/255\n",
        "\n",
        "idx = 2\n",
        "x, y = next(iter(test_loader))\n",
        "x = x[idx:idx+1,...]\n",
        "y = y[idx:idx+1,...]\n",
        "x = nn.Parameter(x)\n",
        "\n",
        "x, y = x.to(device), y.to(device)\n",
        "\n",
        "y_hat = model(x)\n",
        "\n",
        "loss = F.nll_loss(y_hat, y, reduction='mean')\n",
        "grad =  # Completar\n",
        "x_adv =  # Completar\n",
        "y_hat_adv = model(x_adv)\n",
        "\n",
        "\n",
        "x = x.permute(0,2,3,1)[0].detach().cpu().numpy()\n",
        "x_adv = x_adv.permute(0,2,3,1)[0].detach().cpu().numpy()\n",
        "grad = grad.permute(0,2,3,1)[0].detach().cpu().numpy()\n",
        "\n",
        "diff = abs(x - x_adv)\n",
        "from IPython.display import display, Latex\n",
        "\n",
        "display(Latex('\\delta = ||x_{org} - x_{adv} ||_\\infty '+' = {:.04f}'.format(diff.max())))\n",
        "\n",
        "fig, axs = plt.subplots(1,3, figsize=(20,5))\n",
        "\n",
        "axs[0].imshow(x)\n",
        "axs[0].set_title('Predicted Label: '+ str(test_ds.classes[y_hat[0].argmax().cpu().numpy()]))\n",
        "axs[1].imshow(x_adv)\n",
        "axs[1].set_title('Adv Label: '+ str(test_ds.classes[y_hat_adv[0].argmax().cpu().numpy()]))\n",
        "axs[2].imshow(grad)\n",
        "axs[2].set_title('Grad')\n",
        "plt.show()\n",
        "\n"
      ],
      "metadata": {
        "colab": {
          "base_uri": "https://localhost:8080/",
          "height": 280
        },
        "id": "rrdHALUy_mP9",
        "outputId": "09062dea-d2bc-4d40-d5db-1ddcf827bdef"
      },
      "execution_count": null,
      "outputs": [
        {
          "output_type": "display_data",
          "data": {
            "text/plain": [
              "<IPython.core.display.Latex object>"
            ],
            "text/latex": "\\delta = ||x_{org} - x_{adv} ||_\\infty  = 0.0314"
          },
          "metadata": {}
        },
        {
          "output_type": "stream",
          "name": "stderr",
          "text": [
            "WARNING:matplotlib.image:Clipping input data to the valid range for imshow with RGB data ([0..1] for floats or [0..255] for integers).\n"
          ]
        },
        {
          "output_type": "display_data",
          "data": {
            "text/plain": [
              "<Figure size 1440x360 with 3 Axes>"
            ],
            "image/png": "[encoded data removed]"
          },
          "metadata": {
            "needs_background": "light"
          }
        }
      ]
    },
    {
      "cell_type": "markdown",
      "metadata": {
        "id": "NxA8cg1Hu4TY"
      },
      "source": [
        "**Targeted Attack**"
      ]
    },
    {
      "cell_type": "code",
      "execution_count": null,
      "metadata": {
        "id": "2h5Gk-OSu6pf",
        "colab": {
          "base_uri": "https://localhost:8080/",
          "height": 330
        },
        "outputId": "5263961d-69cd-424e-9d1d-64937ed31eb5"
      },
      "outputs": [
        {
          "output_type": "display_data",
          "data": {
            "text/plain": [
              "<IPython.core.display.Latex object>"
            ],
            "text/latex": "\\delta = ||x_{org} - x_{adv} ||_\\infty  = 0.0314"
          },
          "metadata": {}
        },
        {
          "output_type": "stream",
          "name": "stderr",
          "text": [
            "WARNING:matplotlib.image:Clipping input data to the valid range for imshow with RGB data ([0..1] for floats or [0..255] for integers).\n",
            "WARNING:matplotlib.image:Clipping input data to the valid range for imshow with RGB data ([0..1] for floats or [0..255] for integers).\n"
          ]
        },
        {
          "output_type": "display_data",
          "data": {
            "text/plain": [
              "<Figure size 1440x360 with 3 Axes>"
            ],
            "image/png": "[encoded data removed]"
          },
          "metadata": {
            "needs_background": "light"
          }
        }
      ],
      "source": [
        "ep = 8/255\n",
        "\n",
        "\n",
        "idx = 9\n",
        "x, y = next(iter(test_loader))\n",
        "x = x[idx:idx+1,...]\n",
        "y = y[idx:idx+1,...]\n",
        "x = nn.Parameter(x)\n",
        "\n",
        "y_target =  # Completar\n",
        "\n",
        "x, y = x.to(device), y.to(device)\n",
        "\n",
        "y_hat = model(x)\n",
        "\n",
        "loss = F.nll_loss(y_hat, y_target, reduction='mean')\n",
        "grad = # Completar\n",
        "x_adv = # Completar\n",
        "y_hat_adv = model(x_adv)\n",
        "\n",
        "\n",
        "x = x.permute(0,2,3,1)[0].detach().cpu().numpy()\n",
        "x_adv = x_adv.permute(0,2,3,1)[0].detach().cpu().numpy()\n",
        "grad = grad.permute(0,2,3,1)[0].detach().cpu().numpy()\n",
        "\n",
        "diff = abs(x - x_adv)\n",
        "from IPython.display import display, Latex\n",
        "\n",
        "display(Latex('\\delta = ||x_{org} - x_{adv} ||_\\infty '+' = {:.04f}'.format(diff.max())))\n",
        "\n",
        "fig, axs = plt.subplots(1,3, figsize=(20,5))\n",
        "\n",
        "axs[0].imshow(x)\n",
        "axs[0].set_title('Predicted Label: '+ str(test_ds.classes[y_hat[0].argmax().cpu().numpy()]))\n",
        "axs[1].imshow(x_adv)\n",
        "axs[1].set_title('Target: '+str(test_ds.classes[y_target])+'--- Adv Label: '+ str(test_ds.classes[y_hat_adv[0].argmax().cpu().numpy()]))\n",
        "axs[2].imshow(grad)\n",
        "axs[2].set_title('Grad')\n",
        "plt.show()"
      ]
    },
    {
      "cell_type": "code",
      "source": [
        "def adv_test(model, device, test_loader, ep=8/255):\n",
        "    model.eval()\n",
        "    test_loss = 0\n",
        "    correct = 0\n",
        "    for data, target in test_loader:\n",
        "        data, target = data.to(device), target.to(device)\n",
        "        data = nn.Parameter(data)\n",
        "        output = model(data)\n",
        "\n",
        "        loss = F.nll_loss(output, target, reduction='mean')\n",
        "\n",
        "        grad = torch.autograd.grad(loss, data)[0]\n",
        "        x_adv = data + ep*torch.sign(grad)\n",
        "\n",
        "        with torch.no_grad():\n",
        "\n",
        "          y_hat_adv = model(x_adv)\n",
        "\n",
        "          pred = y_hat_adv.argmax(dim=1, keepdim=True)\n",
        "          correct += pred.eq(target.view_as(pred)).sum().item()\n",
        "\n",
        "    test_loss /= len(test_loader.dataset)\n",
        "\n",
        "    print('\\nTest set: Average loss: {:.4f}, Accuracy: {}/{} ({:.0f}%)\\n'.format(\n",
        "        test_loss, correct, len(test_loader.dataset),\n",
        "        100. * correct / len(test_loader.dataset)))\n",
        "\n",
        "adv_test(model, device, test_loader, ep=0/255)\n",
        "adv_test(model, device, test_loader, ep=8/255)"
      ],
      "metadata": {
        "id": "8utSorjuRCdU"
      },
      "execution_count": null,
      "outputs": []
    },
    {
      "cell_type": "code",
      "source": [
        "def adv_train(args, model, device, train_loader, optimizer, epoch, ep=8/255):\n",
        "    model.train()\n",
        "    for batch_idx, (data, target) in enumerate(train_loader):\n",
        "        data, target = data.to(device), target.to(device)\n",
        "\n",
        "        data = nn.Parameter(data)\n",
        "        # output = model(data)\n",
        "        loss = F.nll_loss(output, target, reduction='mean')\n",
        "        grad = torch.autograd.grad(loss, data)[0]\n",
        "\n",
        "        x_adv = data + ep*torch.sign(grad)\n",
        "        x_adv = torch.clip(x_adv, 0,1)\n",
        "\n",
        "        data = x_adv.detach()\n",
        "\n",
        "        optimizer.zero_grad()\n",
        "        output = model(data)\n",
        "        loss = F.nll_loss(output, target)\n",
        "        loss.backward()\n",
        "        optimizer.step()\n",
        "        if batch_idx % args.log_interval == 0:\n",
        "            print('Train Epoch: {} [{}/{} ({:.0f}%)]\\tLoss: {:.6f}'.format(\n",
        "                epoch, batch_idx * len(data), len(train_loader.dataset),\n",
        "                100. * batch_idx / len(train_loader), loss.item()))\n",
        "\n",
        "model_adv = Net().to(device)\n",
        "\n",
        "optimizer_adv = optim.Adam(model_adv.parameters(), lr=args.lr)\n",
        "\n",
        "for epoch in range(1, args.epochs + 1):\n",
        "    adv_train(args, model_adv, device, train_loader, optimizer_adv, epoch)\n",
        "    test(model_adv, device, test_loader)\n",
        "\n",
        "adv_test(model, device, test_loader, ep=0/255)\n",
        "adv_test(model, device, test_loader, ep=8/255)\n",
        "adv_test(model_adv, device, test_loader, ep=0/255)\n",
        "adv_test(model_adv, device, test_loader, ep=8/255)"
      ],
      "metadata": {
        "id": "aUq5iC91UTkb"
      },
      "execution_count": null,
      "outputs": []
    }
  ],
  "metadata": {
    "accelerator": "GPU",
    "colab": {
      "provenance": []
    },
    "kernelspec": {
      "display_name": "Python 3",
      "name": "python3"
    }
  },
  "nbformat": 4,
  "nbformat_minor": 0
}